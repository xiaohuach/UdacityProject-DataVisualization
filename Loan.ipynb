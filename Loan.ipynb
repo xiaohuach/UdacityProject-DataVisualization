{
 "cells": [
  {
   "cell_type": "markdown",
   "metadata": {},
   "source": [
    "# Loan Data Exploration\n",
    "## by Xiaohua Chen\n",
    "\n",
    "## Preliminary Wrangling\n",
    "\n",
    "> Briefly introduce your dataset here."
   ]
  },
  {
   "cell_type": "code",
   "execution_count": 99,
   "metadata": {},
   "outputs": [],
   "source": [
    "# import all packages and set plots to be embedded inline\n",
    "import numpy as np\n",
    "import pandas as pd\n",
    "import matplotlib.pyplot as plt\n",
    "import seaborn as sb\n",
    "\n",
    "%matplotlib inline"
   ]
  },
  {
   "cell_type": "markdown",
   "metadata": {},
   "source": [
    "> Load in your dataset and describe its properties through the questions below.\n",
    "Try and motivate your exploration goals through this section."
   ]
  },
  {
   "cell_type": "code",
   "execution_count": 273,
   "metadata": {},
   "outputs": [],
   "source": [
    "df = pd.read_csv('prosperLoanData.csv')\n"
   ]
  },
  {
   "cell_type": "code",
   "execution_count": 5,
   "metadata": {
    "scrolled": true
   },
   "outputs": [
    {
     "data": {
      "text/html": [
       "<div>\n",
       "<style scoped>\n",
       "    .dataframe tbody tr th:only-of-type {\n",
       "        vertical-align: middle;\n",
       "    }\n",
       "\n",
       "    .dataframe tbody tr th {\n",
       "        vertical-align: top;\n",
       "    }\n",
       "\n",
       "    .dataframe thead th {\n",
       "        text-align: right;\n",
       "    }\n",
       "</style>\n",
       "<table border=\"1\" class=\"dataframe\">\n",
       "  <thead>\n",
       "    <tr style=\"text-align: right;\">\n",
       "      <th></th>\n",
       "      <th>ListingNumber</th>\n",
       "      <th>ListingCreationDate</th>\n",
       "      <th>CreditGrade</th>\n",
       "      <th>Term</th>\n",
       "      <th>LoanStatus</th>\n",
       "      <th>ClosedDate</th>\n",
       "      <th>BorrowerAPR</th>\n",
       "      <th>BorrowerRate</th>\n",
       "      <th>ProsperRating</th>\n",
       "      <th>ListingCategory</th>\n",
       "      <th>...</th>\n",
       "      <th>IsBorrowerHomeowner</th>\n",
       "      <th>CreditScoreRangeLower</th>\n",
       "      <th>CreditScoreRangeUpper</th>\n",
       "      <th>CreditScoreRangeUpper.1</th>\n",
       "      <th>CurrentCreditLines</th>\n",
       "      <th>AvailableBankcardCredit</th>\n",
       "      <th>DebtToIncomeRatio</th>\n",
       "      <th>StatedMonthlyIncome</th>\n",
       "      <th>LoanOriginalAmount</th>\n",
       "      <th>MonthlyLoanPayment</th>\n",
       "    </tr>\n",
       "  </thead>\n",
       "  <tbody>\n",
       "    <tr>\n",
       "      <th>0</th>\n",
       "      <td>193129</td>\n",
       "      <td>2007-08-26 19:09:29.263</td>\n",
       "      <td>C</td>\n",
       "      <td>36</td>\n",
       "      <td>Completed</td>\n",
       "      <td>2009-08-14 00:00:00</td>\n",
       "      <td>0.16516</td>\n",
       "      <td>0.1580</td>\n",
       "      <td>NaN</td>\n",
       "      <td>0</td>\n",
       "      <td>...</td>\n",
       "      <td>True</td>\n",
       "      <td>640.0</td>\n",
       "      <td>659.0</td>\n",
       "      <td>659.0</td>\n",
       "      <td>5.0</td>\n",
       "      <td>1500.0</td>\n",
       "      <td>0.17</td>\n",
       "      <td>3083.333333</td>\n",
       "      <td>9425</td>\n",
       "      <td>330.43</td>\n",
       "    </tr>\n",
       "    <tr>\n",
       "      <th>1</th>\n",
       "      <td>1209647</td>\n",
       "      <td>2014-02-27 08:28:07.900</td>\n",
       "      <td>NaN</td>\n",
       "      <td>36</td>\n",
       "      <td>Current</td>\n",
       "      <td>NaN</td>\n",
       "      <td>0.12016</td>\n",
       "      <td>0.0920</td>\n",
       "      <td>6.0</td>\n",
       "      <td>2</td>\n",
       "      <td>...</td>\n",
       "      <td>False</td>\n",
       "      <td>680.0</td>\n",
       "      <td>699.0</td>\n",
       "      <td>699.0</td>\n",
       "      <td>14.0</td>\n",
       "      <td>10266.0</td>\n",
       "      <td>0.18</td>\n",
       "      <td>6125.000000</td>\n",
       "      <td>10000</td>\n",
       "      <td>318.93</td>\n",
       "    </tr>\n",
       "    <tr>\n",
       "      <th>2</th>\n",
       "      <td>81716</td>\n",
       "      <td>2007-01-05 15:00:47.090</td>\n",
       "      <td>HR</td>\n",
       "      <td>36</td>\n",
       "      <td>Completed</td>\n",
       "      <td>2009-12-17 00:00:00</td>\n",
       "      <td>0.28269</td>\n",
       "      <td>0.2750</td>\n",
       "      <td>NaN</td>\n",
       "      <td>0</td>\n",
       "      <td>...</td>\n",
       "      <td>False</td>\n",
       "      <td>480.0</td>\n",
       "      <td>499.0</td>\n",
       "      <td>499.0</td>\n",
       "      <td>NaN</td>\n",
       "      <td>NaN</td>\n",
       "      <td>0.06</td>\n",
       "      <td>2083.333333</td>\n",
       "      <td>3001</td>\n",
       "      <td>123.32</td>\n",
       "    </tr>\n",
       "    <tr>\n",
       "      <th>3</th>\n",
       "      <td>658116</td>\n",
       "      <td>2012-10-22 11:02:35.010</td>\n",
       "      <td>NaN</td>\n",
       "      <td>36</td>\n",
       "      <td>Current</td>\n",
       "      <td>NaN</td>\n",
       "      <td>0.12528</td>\n",
       "      <td>0.0974</td>\n",
       "      <td>6.0</td>\n",
       "      <td>16</td>\n",
       "      <td>...</td>\n",
       "      <td>True</td>\n",
       "      <td>800.0</td>\n",
       "      <td>819.0</td>\n",
       "      <td>819.0</td>\n",
       "      <td>5.0</td>\n",
       "      <td>30754.0</td>\n",
       "      <td>0.15</td>\n",
       "      <td>2875.000000</td>\n",
       "      <td>10000</td>\n",
       "      <td>321.45</td>\n",
       "    </tr>\n",
       "    <tr>\n",
       "      <th>4</th>\n",
       "      <td>909464</td>\n",
       "      <td>2013-09-14 18:38:39.097</td>\n",
       "      <td>NaN</td>\n",
       "      <td>36</td>\n",
       "      <td>Current</td>\n",
       "      <td>NaN</td>\n",
       "      <td>0.24614</td>\n",
       "      <td>0.2085</td>\n",
       "      <td>3.0</td>\n",
       "      <td>2</td>\n",
       "      <td>...</td>\n",
       "      <td>True</td>\n",
       "      <td>680.0</td>\n",
       "      <td>699.0</td>\n",
       "      <td>699.0</td>\n",
       "      <td>19.0</td>\n",
       "      <td>695.0</td>\n",
       "      <td>0.26</td>\n",
       "      <td>9583.333333</td>\n",
       "      <td>15000</td>\n",
       "      <td>563.97</td>\n",
       "    </tr>\n",
       "  </tbody>\n",
       "</table>\n",
       "<p>5 rows × 23 columns</p>\n",
       "</div>"
      ],
      "text/plain": [
       "   ListingNumber      ListingCreationDate CreditGrade  Term LoanStatus  \\\n",
       "0         193129  2007-08-26 19:09:29.263           C    36  Completed   \n",
       "1        1209647  2014-02-27 08:28:07.900         NaN    36    Current   \n",
       "2          81716  2007-01-05 15:00:47.090          HR    36  Completed   \n",
       "3         658116  2012-10-22 11:02:35.010         NaN    36    Current   \n",
       "4         909464  2013-09-14 18:38:39.097         NaN    36    Current   \n",
       "\n",
       "            ClosedDate  BorrowerAPR  BorrowerRate  ProsperRating  \\\n",
       "0  2009-08-14 00:00:00      0.16516        0.1580            NaN   \n",
       "1                  NaN      0.12016        0.0920            6.0   \n",
       "2  2009-12-17 00:00:00      0.28269        0.2750            NaN   \n",
       "3                  NaN      0.12528        0.0974            6.0   \n",
       "4                  NaN      0.24614        0.2085            3.0   \n",
       "\n",
       "   ListingCategory  ... IsBorrowerHomeowner CreditScoreRangeLower  \\\n",
       "0                0  ...                True                 640.0   \n",
       "1                2  ...               False                 680.0   \n",
       "2                0  ...               False                 480.0   \n",
       "3               16  ...                True                 800.0   \n",
       "4                2  ...                True                 680.0   \n",
       "\n",
       "  CreditScoreRangeUpper  CreditScoreRangeUpper.1  CurrentCreditLines  \\\n",
       "0                 659.0                    659.0                 5.0   \n",
       "1                 699.0                    699.0                14.0   \n",
       "2                 499.0                    499.0                 NaN   \n",
       "3                 819.0                    819.0                 5.0   \n",
       "4                 699.0                    699.0                19.0   \n",
       "\n",
       "   AvailableBankcardCredit  DebtToIncomeRatio  StatedMonthlyIncome  \\\n",
       "0                   1500.0               0.17          3083.333333   \n",
       "1                  10266.0               0.18          6125.000000   \n",
       "2                      NaN               0.06          2083.333333   \n",
       "3                  30754.0               0.15          2875.000000   \n",
       "4                    695.0               0.26          9583.333333   \n",
       "\n",
       "   LoanOriginalAmount  MonthlyLoanPayment  \n",
       "0                9425              330.43  \n",
       "1               10000              318.93  \n",
       "2                3001              123.32  \n",
       "3               10000              321.45  \n",
       "4               15000              563.97  \n",
       "\n",
       "[5 rows x 23 columns]"
      ]
     },
     "execution_count": 5,
     "metadata": {},
     "output_type": "execute_result"
    }
   ],
   "source": [
    "df.head()"
   ]
  },
  {
   "cell_type": "code",
   "execution_count": 274,
   "metadata": {},
   "outputs": [
    {
     "data": {
      "text/plain": [
       "(113937, 81)"
      ]
     },
     "execution_count": 274,
     "metadata": {},
     "output_type": "execute_result"
    }
   ],
   "source": [
    "df.shape"
   ]
  },
  {
   "cell_type": "code",
   "execution_count": 275,
   "metadata": {
    "scrolled": true
   },
   "outputs": [
    {
     "name": "stdout",
     "output_type": "stream",
     "text": [
      "<class 'pandas.core.frame.DataFrame'>\n",
      "RangeIndex: 113937 entries, 0 to 113936\n",
      "Data columns (total 81 columns):\n",
      "ListingKey                             113937 non-null object\n",
      "ListingNumber                          113937 non-null int64\n",
      "ListingCreationDate                    113937 non-null object\n",
      "CreditGrade                            28953 non-null object\n",
      "Term                                   113937 non-null int64\n",
      "LoanStatus                             113937 non-null object\n",
      "ClosedDate                             55089 non-null object\n",
      "BorrowerAPR                            113912 non-null float64\n",
      "BorrowerRate                           113937 non-null float64\n",
      "LenderYield                            113937 non-null float64\n",
      "EstimatedEffectiveYield                84853 non-null float64\n",
      "EstimatedLoss                          84853 non-null float64\n",
      "EstimatedReturn                        84853 non-null float64\n",
      "ProsperRating (numeric)                84853 non-null float64\n",
      "ProsperRating (Alpha)                  84853 non-null object\n",
      "ProsperScore                           84853 non-null float64\n",
      "ListingCategory (numeric)              113937 non-null int64\n",
      "BorrowerState                          108422 non-null object\n",
      "Occupation                             110349 non-null object\n",
      "EmploymentStatus                       111682 non-null object\n",
      "EmploymentStatusDuration               106312 non-null float64\n",
      "IsBorrowerHomeowner                    113937 non-null bool\n",
      "CurrentlyInGroup                       113937 non-null bool\n",
      "GroupKey                               13341 non-null object\n",
      "DateCreditPulled                       113937 non-null object\n",
      "CreditScoreRangeLower                  113346 non-null float64\n",
      "CreditScoreRangeUpper                  113346 non-null float64\n",
      "FirstRecordedCreditLine                113240 non-null object\n",
      "CurrentCreditLines                     106333 non-null float64\n",
      "OpenCreditLines                        106333 non-null float64\n",
      "TotalCreditLinespast7years             113240 non-null float64\n",
      "OpenRevolvingAccounts                  113937 non-null int64\n",
      "OpenRevolvingMonthlyPayment            113937 non-null float64\n",
      "InquiriesLast6Months                   113240 non-null float64\n",
      "TotalInquiries                         112778 non-null float64\n",
      "CurrentDelinquencies                   113240 non-null float64\n",
      "AmountDelinquent                       106315 non-null float64\n",
      "DelinquenciesLast7Years                112947 non-null float64\n",
      "PublicRecordsLast10Years               113240 non-null float64\n",
      "PublicRecordsLast12Months              106333 non-null float64\n",
      "RevolvingCreditBalance                 106333 non-null float64\n",
      "BankcardUtilization                    106333 non-null float64\n",
      "AvailableBankcardCredit                106393 non-null float64\n",
      "TotalTrades                            106393 non-null float64\n",
      "TradesNeverDelinquent (percentage)     106393 non-null float64\n",
      "TradesOpenedLast6Months                106393 non-null float64\n",
      "DebtToIncomeRatio                      105383 non-null float64\n",
      "IncomeRange                            113937 non-null object\n",
      "IncomeVerifiable                       113937 non-null bool\n",
      "StatedMonthlyIncome                    113937 non-null float64\n",
      "LoanKey                                113937 non-null object\n",
      "TotalProsperLoans                      22085 non-null float64\n",
      "TotalProsperPaymentsBilled             22085 non-null float64\n",
      "OnTimeProsperPayments                  22085 non-null float64\n",
      "ProsperPaymentsLessThanOneMonthLate    22085 non-null float64\n",
      "ProsperPaymentsOneMonthPlusLate        22085 non-null float64\n",
      "ProsperPrincipalBorrowed               22085 non-null float64\n",
      "ProsperPrincipalOutstanding            22085 non-null float64\n",
      "ScorexChangeAtTimeOfListing            18928 non-null float64\n",
      "LoanCurrentDaysDelinquent              113937 non-null int64\n",
      "LoanFirstDefaultedCycleNumber          16952 non-null float64\n",
      "LoanMonthsSinceOrigination             113937 non-null int64\n",
      "LoanNumber                             113937 non-null int64\n",
      "LoanOriginalAmount                     113937 non-null int64\n",
      "LoanOriginationDate                    113937 non-null object\n",
      "LoanOriginationQuarter                 113937 non-null object\n",
      "MemberKey                              113937 non-null object\n",
      "MonthlyLoanPayment                     113937 non-null float64\n",
      "LP_CustomerPayments                    113937 non-null float64\n",
      "LP_CustomerPrincipalPayments           113937 non-null float64\n",
      "LP_InterestandFees                     113937 non-null float64\n",
      "LP_ServiceFees                         113937 non-null float64\n",
      "LP_CollectionFees                      113937 non-null float64\n",
      "LP_GrossPrincipalLoss                  113937 non-null float64\n",
      "LP_NetPrincipalLoss                    113937 non-null float64\n",
      "LP_NonPrincipalRecoverypayments        113937 non-null float64\n",
      "PercentFunded                          113937 non-null float64\n",
      "Recommendations                        113937 non-null int64\n",
      "InvestmentFromFriendsCount             113937 non-null int64\n",
      "InvestmentFromFriendsAmount            113937 non-null float64\n",
      "Investors                              113937 non-null int64\n",
      "dtypes: bool(3), float64(50), int64(11), object(17)\n",
      "memory usage: 68.1+ MB\n"
     ]
    }
   ],
   "source": [
    "df.info()"
   ]
  },
  {
   "cell_type": "code",
   "execution_count": 9,
   "metadata": {},
   "outputs": [
    {
     "data": {
      "text/plain": [
       "count                            113937\n",
       "unique                           113064\n",
       "top       2013-10-02 17:20:16.550000000\n",
       "freq                                  6\n",
       "Name: ListingCreationDate, dtype: object"
      ]
     },
     "execution_count": 9,
     "metadata": {},
     "output_type": "execute_result"
    }
   ],
   "source": [
    "df.ListingCreationDate.describe()"
   ]
  },
  {
   "cell_type": "code",
   "execution_count": 10,
   "metadata": {},
   "outputs": [
    {
     "data": {
      "text/plain": [
       "113066"
      ]
     },
     "execution_count": 10,
     "metadata": {},
     "output_type": "execute_result"
    }
   ],
   "source": [
    "df.LoanNumber.nunique()"
   ]
  },
  {
   "cell_type": "code",
   "execution_count": 12,
   "metadata": {},
   "outputs": [
    {
     "data": {
      "text/plain": [
       "113066"
      ]
     },
     "execution_count": 12,
     "metadata": {},
     "output_type": "execute_result"
    }
   ],
   "source": [
    "df.ListingNumber.nunique()"
   ]
  },
  {
   "cell_type": "code",
   "execution_count": 13,
   "metadata": {},
   "outputs": [
    {
     "data": {
      "text/plain": [
       "113066"
      ]
     },
     "execution_count": 13,
     "metadata": {},
     "output_type": "execute_result"
    }
   ],
   "source": [
    "df.ListingKey.nunique()"
   ]
  },
  {
   "cell_type": "code",
   "execution_count": 19,
   "metadata": {},
   "outputs": [
    {
     "data": {
      "text/html": [
       "<div>\n",
       "<style scoped>\n",
       "    .dataframe tbody tr th:only-of-type {\n",
       "        vertical-align: middle;\n",
       "    }\n",
       "\n",
       "    .dataframe tbody tr th {\n",
       "        vertical-align: top;\n",
       "    }\n",
       "\n",
       "    .dataframe thead th {\n",
       "        text-align: right;\n",
       "    }\n",
       "</style>\n",
       "<table border=\"1\" class=\"dataframe\">\n",
       "  <thead>\n",
       "    <tr style=\"text-align: right;\">\n",
       "      <th></th>\n",
       "      <th>ListingKey</th>\n",
       "      <th>ListingNumber</th>\n",
       "      <th>ListingCreationDate</th>\n",
       "      <th>CreditGrade</th>\n",
       "      <th>Term</th>\n",
       "      <th>LoanStatus</th>\n",
       "      <th>ClosedDate</th>\n",
       "      <th>BorrowerAPR</th>\n",
       "      <th>BorrowerRate</th>\n",
       "      <th>LenderYield</th>\n",
       "      <th>...</th>\n",
       "      <th>LP_ServiceFees</th>\n",
       "      <th>LP_CollectionFees</th>\n",
       "      <th>LP_GrossPrincipalLoss</th>\n",
       "      <th>LP_NetPrincipalLoss</th>\n",
       "      <th>LP_NonPrincipalRecoverypayments</th>\n",
       "      <th>PercentFunded</th>\n",
       "      <th>Recommendations</th>\n",
       "      <th>InvestmentFromFriendsCount</th>\n",
       "      <th>InvestmentFromFriendsAmount</th>\n",
       "      <th>Investors</th>\n",
       "    </tr>\n",
       "  </thead>\n",
       "  <tbody>\n",
       "    <tr>\n",
       "      <th>9</th>\n",
       "      <td>0F043596202561788EA13D5</td>\n",
       "      <td>1023355</td>\n",
       "      <td>2013-12-02 10:43:39.117000000</td>\n",
       "      <td>NaN</td>\n",
       "      <td>36</td>\n",
       "      <td>Current</td>\n",
       "      <td>NaN</td>\n",
       "      <td>0.07620</td>\n",
       "      <td>0.0629</td>\n",
       "      <td>0.0529</td>\n",
       "      <td>...</td>\n",
       "      <td>-16.77</td>\n",
       "      <td>0.0</td>\n",
       "      <td>0.0</td>\n",
       "      <td>0.0</td>\n",
       "      <td>0.0</td>\n",
       "      <td>1.0</td>\n",
       "      <td>0</td>\n",
       "      <td>0</td>\n",
       "      <td>0.0</td>\n",
       "      <td>1</td>\n",
       "    </tr>\n",
       "    <tr>\n",
       "      <th>999</th>\n",
       "      <td>0A0635972629771021E38F3</td>\n",
       "      <td>1055932</td>\n",
       "      <td>2013-12-18 14:25:17.053000000</td>\n",
       "      <td>NaN</td>\n",
       "      <td>60</td>\n",
       "      <td>Current</td>\n",
       "      <td>NaN</td>\n",
       "      <td>0.17710</td>\n",
       "      <td>0.1535</td>\n",
       "      <td>0.1435</td>\n",
       "      <td>...</td>\n",
       "      <td>0.00</td>\n",
       "      <td>0.0</td>\n",
       "      <td>0.0</td>\n",
       "      <td>0.0</td>\n",
       "      <td>0.0</td>\n",
       "      <td>1.0</td>\n",
       "      <td>0</td>\n",
       "      <td>0</td>\n",
       "      <td>0.0</td>\n",
       "      <td>1</td>\n",
       "    </tr>\n",
       "    <tr>\n",
       "      <th>2539</th>\n",
       "      <td>2D2635984503681189056B4</td>\n",
       "      <td>1097584</td>\n",
       "      <td>2014-01-11 07:50:08.037000000</td>\n",
       "      <td>NaN</td>\n",
       "      <td>60</td>\n",
       "      <td>Current</td>\n",
       "      <td>NaN</td>\n",
       "      <td>0.14528</td>\n",
       "      <td>0.1224</td>\n",
       "      <td>0.1124</td>\n",
       "      <td>...</td>\n",
       "      <td>0.00</td>\n",
       "      <td>0.0</td>\n",
       "      <td>0.0</td>\n",
       "      <td>0.0</td>\n",
       "      <td>0.0</td>\n",
       "      <td>1.0</td>\n",
       "      <td>0</td>\n",
       "      <td>0</td>\n",
       "      <td>0.0</td>\n",
       "      <td>1</td>\n",
       "    </tr>\n",
       "    <tr>\n",
       "      <th>4942</th>\n",
       "      <td>4B7E3590031274113F1FD34</td>\n",
       "      <td>927246</td>\n",
       "      <td>2013-09-26 09:35:36.317000000</td>\n",
       "      <td>NaN</td>\n",
       "      <td>36</td>\n",
       "      <td>Current</td>\n",
       "      <td>NaN</td>\n",
       "      <td>0.35356</td>\n",
       "      <td>0.3134</td>\n",
       "      <td>0.3034</td>\n",
       "      <td>...</td>\n",
       "      <td>-15.98</td>\n",
       "      <td>0.0</td>\n",
       "      <td>0.0</td>\n",
       "      <td>0.0</td>\n",
       "      <td>0.0</td>\n",
       "      <td>1.0</td>\n",
       "      <td>0</td>\n",
       "      <td>0</td>\n",
       "      <td>0.0</td>\n",
       "      <td>40</td>\n",
       "    </tr>\n",
       "    <tr>\n",
       "      <th>5812</th>\n",
       "      <td>94B035909835592957503E6</td>\n",
       "      <td>920397</td>\n",
       "      <td>2013-09-24 13:27:48.287000000</td>\n",
       "      <td>NaN</td>\n",
       "      <td>36</td>\n",
       "      <td>Current</td>\n",
       "      <td>NaN</td>\n",
       "      <td>0.24205</td>\n",
       "      <td>0.2045</td>\n",
       "      <td>0.1945</td>\n",
       "      <td>...</td>\n",
       "      <td>-37.03</td>\n",
       "      <td>0.0</td>\n",
       "      <td>0.0</td>\n",
       "      <td>0.0</td>\n",
       "      <td>0.0</td>\n",
       "      <td>1.0</td>\n",
       "      <td>0</td>\n",
       "      <td>0</td>\n",
       "      <td>0.0</td>\n",
       "      <td>1</td>\n",
       "    </tr>\n",
       "  </tbody>\n",
       "</table>\n",
       "<p>5 rows × 81 columns</p>\n",
       "</div>"
      ],
      "text/plain": [
       "                   ListingKey  ListingNumber            ListingCreationDate  \\\n",
       "9     0F043596202561788EA13D5        1023355  2013-12-02 10:43:39.117000000   \n",
       "999   0A0635972629771021E38F3        1055932  2013-12-18 14:25:17.053000000   \n",
       "2539  2D2635984503681189056B4        1097584  2014-01-11 07:50:08.037000000   \n",
       "4942  4B7E3590031274113F1FD34         927246  2013-09-26 09:35:36.317000000   \n",
       "5812  94B035909835592957503E6         920397  2013-09-24 13:27:48.287000000   \n",
       "\n",
       "     CreditGrade  Term LoanStatus ClosedDate  BorrowerAPR  BorrowerRate  \\\n",
       "9            NaN    36    Current        NaN      0.07620        0.0629   \n",
       "999          NaN    60    Current        NaN      0.17710        0.1535   \n",
       "2539         NaN    60    Current        NaN      0.14528        0.1224   \n",
       "4942         NaN    36    Current        NaN      0.35356        0.3134   \n",
       "5812         NaN    36    Current        NaN      0.24205        0.2045   \n",
       "\n",
       "      LenderYield  ...  LP_ServiceFees  LP_CollectionFees  \\\n",
       "9          0.0529  ...          -16.77                0.0   \n",
       "999        0.1435  ...            0.00                0.0   \n",
       "2539       0.1124  ...            0.00                0.0   \n",
       "4942       0.3034  ...          -15.98                0.0   \n",
       "5812       0.1945  ...          -37.03                0.0   \n",
       "\n",
       "      LP_GrossPrincipalLoss  LP_NetPrincipalLoss  \\\n",
       "9                       0.0                  0.0   \n",
       "999                     0.0                  0.0   \n",
       "2539                    0.0                  0.0   \n",
       "4942                    0.0                  0.0   \n",
       "5812                    0.0                  0.0   \n",
       "\n",
       "     LP_NonPrincipalRecoverypayments  PercentFunded  Recommendations  \\\n",
       "9                                0.0            1.0                0   \n",
       "999                              0.0            1.0                0   \n",
       "2539                             0.0            1.0                0   \n",
       "4942                             0.0            1.0                0   \n",
       "5812                             0.0            1.0                0   \n",
       "\n",
       "     InvestmentFromFriendsCount InvestmentFromFriendsAmount Investors  \n",
       "9                             0                         0.0         1  \n",
       "999                           0                         0.0         1  \n",
       "2539                          0                         0.0         1  \n",
       "4942                          0                         0.0        40  \n",
       "5812                          0                         0.0         1  \n",
       "\n",
       "[5 rows x 81 columns]"
      ]
     },
     "execution_count": 19,
     "metadata": {},
     "output_type": "execute_result"
    }
   ],
   "source": [
    "df[df.LoanNumber.duplicated()].head()"
   ]
  },
  {
   "cell_type": "code",
   "execution_count": 26,
   "metadata": {},
   "outputs": [],
   "source": [
    "dup_list1 = df[df.ListingNumber == 1023355]"
   ]
  },
  {
   "cell_type": "code",
   "execution_count": 42,
   "metadata": {},
   "outputs": [
    {
     "name": "stderr",
     "output_type": "stream",
     "text": [
      "C:\\ProgramData\\Anaconda3\\lib\\site-packages\\ipykernel_launcher.py:1: SettingWithCopyWarning: \n",
      "A value is trying to be set on a copy of a slice from a DataFrame\n",
      "\n",
      "See the caveats in the documentation: http://pandas.pydata.org/pandas-docs/stable/user_guide/indexing.html#returning-a-view-versus-a-copy\n",
      "  \"\"\"Entry point for launching an IPython kernel.\n"
     ]
    }
   ],
   "source": [
    "dup_list1.dropna(axis=1, inplace = True)"
   ]
  },
  {
   "cell_type": "code",
   "execution_count": 52,
   "metadata": {},
   "outputs": [
    {
     "data": {
      "text/plain": [
       "8     9.0\n",
       "9    11.0\n",
       "Name: ProsperScore, dtype: float64"
      ]
     },
     "execution_count": 52,
     "metadata": {},
     "output_type": "execute_result"
    }
   ],
   "source": [
    "dup_list1['ProsperScore']"
   ]
  },
  {
   "cell_type": "code",
   "execution_count": 40,
   "metadata": {},
   "outputs": [
    {
     "data": {
      "text/plain": [
       "8    NaN\n",
       "9    NaN\n",
       "Name: CreditGrade, dtype: object"
      ]
     },
     "execution_count": 40,
     "metadata": {},
     "output_type": "execute_result"
    }
   ],
   "source": [
    "dup_list1['CreditGrade']"
   ]
  },
  {
   "cell_type": "code",
   "execution_count": 51,
   "metadata": {},
   "outputs": [
    {
     "data": {
      "text/plain": [
       "BorrowerAPR                           False\n",
       "BorrowerRate                          False\n",
       "LenderYield                           False\n",
       "EstimatedEffectiveYield               False\n",
       "EstimatedLoss                         False\n",
       "EstimatedReturn                       False\n",
       "ProsperRating (numeric)               False\n",
       "ProsperRating (Alpha)                 False\n",
       "ProsperScore                           True\n",
       "ListingCategory (numeric)             False\n",
       "BorrowerState                         False\n",
       "Occupation                            False\n",
       "EmploymentStatus                      False\n",
       "EmploymentStatusDuration              False\n",
       "IsBorrowerHomeowner                   False\n",
       "CurrentlyInGroup                      False\n",
       "DateCreditPulled                      False\n",
       "CreditScoreRangeLower                 False\n",
       "CreditScoreRangeUpper                 False\n",
       "FirstRecordedCreditLine               False\n",
       "CurrentCreditLines                    False\n",
       "OpenCreditLines                       False\n",
       "TotalCreditLinespast7years            False\n",
       "OpenRevolvingAccounts                 False\n",
       "OpenRevolvingMonthlyPayment           False\n",
       "InquiriesLast6Months                  False\n",
       "TotalInquiries                        False\n",
       "CurrentDelinquencies                  False\n",
       "AmountDelinquent                      False\n",
       "DelinquenciesLast7Years               False\n",
       "PublicRecordsLast10Years              False\n",
       "PublicRecordsLast12Months             False\n",
       "RevolvingCreditBalance                False\n",
       "BankcardUtilization                   False\n",
       "AvailableBankcardCredit               False\n",
       "TotalTrades                           False\n",
       "TradesNeverDelinquent (percentage)    False\n",
       "TradesOpenedLast6Months               False\n",
       "DebtToIncomeRatio                     False\n",
       "IncomeRange                           False\n",
       "IncomeVerifiable                      False\n",
       "StatedMonthlyIncome                   False\n",
       "LoanKey                               False\n",
       "LoanCurrentDaysDelinquent             False\n",
       "LoanMonthsSinceOrigination            False\n",
       "LoanNumber                            False\n",
       "LoanOriginalAmount                    False\n",
       "LoanOriginationDate                   False\n",
       "LoanOriginationQuarter                False\n",
       "MemberKey                             False\n",
       "MonthlyLoanPayment                    False\n",
       "LP_CustomerPayments                   False\n",
       "LP_CustomerPrincipalPayments          False\n",
       "LP_InterestandFees                    False\n",
       "LP_ServiceFees                        False\n",
       "LP_CollectionFees                     False\n",
       "LP_GrossPrincipalLoss                 False\n",
       "LP_NetPrincipalLoss                   False\n",
       "dtype: bool"
      ]
     },
     "execution_count": 51,
     "metadata": {},
     "output_type": "execute_result"
    }
   ],
   "source": [
    "(dup_list1.iloc[0].eq(dup_list1.iloc[1]) == False)[5:63]"
   ]
  },
  {
   "cell_type": "code",
   "execution_count": 17,
   "metadata": {},
   "outputs": [
    {
     "data": {
      "text/plain": [
       "0"
      ]
     },
     "execution_count": 17,
     "metadata": {},
     "output_type": "execute_result"
    }
   ],
   "source": [
    "df[df.duplicated()].shape[0]"
   ]
  },
  {
   "cell_type": "code",
   "execution_count": 54,
   "metadata": {},
   "outputs": [
    {
     "data": {
      "text/html": [
       "<div>\n",
       "<style scoped>\n",
       "    .dataframe tbody tr th:only-of-type {\n",
       "        vertical-align: middle;\n",
       "    }\n",
       "\n",
       "    .dataframe tbody tr th {\n",
       "        vertical-align: top;\n",
       "    }\n",
       "\n",
       "    .dataframe thead th {\n",
       "        text-align: right;\n",
       "    }\n",
       "</style>\n",
       "<table border=\"1\" class=\"dataframe\">\n",
       "  <thead>\n",
       "    <tr style=\"text-align: right;\">\n",
       "      <th></th>\n",
       "      <th>BorrowerAPR</th>\n",
       "      <th>BorrowerRate</th>\n",
       "    </tr>\n",
       "  </thead>\n",
       "  <tbody>\n",
       "    <tr>\n",
       "      <th>0</th>\n",
       "      <td>0.16516</td>\n",
       "      <td>0.1580</td>\n",
       "    </tr>\n",
       "    <tr>\n",
       "      <th>1</th>\n",
       "      <td>0.12016</td>\n",
       "      <td>0.0920</td>\n",
       "    </tr>\n",
       "    <tr>\n",
       "      <th>2</th>\n",
       "      <td>0.28269</td>\n",
       "      <td>0.2750</td>\n",
       "    </tr>\n",
       "    <tr>\n",
       "      <th>3</th>\n",
       "      <td>0.12528</td>\n",
       "      <td>0.0974</td>\n",
       "    </tr>\n",
       "    <tr>\n",
       "      <th>4</th>\n",
       "      <td>0.24614</td>\n",
       "      <td>0.2085</td>\n",
       "    </tr>\n",
       "    <tr>\n",
       "      <th>5</th>\n",
       "      <td>0.15425</td>\n",
       "      <td>0.1314</td>\n",
       "    </tr>\n",
       "    <tr>\n",
       "      <th>6</th>\n",
       "      <td>0.31032</td>\n",
       "      <td>0.2712</td>\n",
       "    </tr>\n",
       "    <tr>\n",
       "      <th>7</th>\n",
       "      <td>0.23939</td>\n",
       "      <td>0.2019</td>\n",
       "    </tr>\n",
       "    <tr>\n",
       "      <th>8</th>\n",
       "      <td>0.07620</td>\n",
       "      <td>0.0629</td>\n",
       "    </tr>\n",
       "    <tr>\n",
       "      <th>9</th>\n",
       "      <td>0.07620</td>\n",
       "      <td>0.0629</td>\n",
       "    </tr>\n",
       "    <tr>\n",
       "      <th>10</th>\n",
       "      <td>0.27462</td>\n",
       "      <td>0.2489</td>\n",
       "    </tr>\n",
       "    <tr>\n",
       "      <th>11</th>\n",
       "      <td>0.15033</td>\n",
       "      <td>0.1325</td>\n",
       "    </tr>\n",
       "    <tr>\n",
       "      <th>12</th>\n",
       "      <td>0.17969</td>\n",
       "      <td>0.1435</td>\n",
       "    </tr>\n",
       "    <tr>\n",
       "      <th>13</th>\n",
       "      <td>0.13138</td>\n",
       "      <td>0.1034</td>\n",
       "    </tr>\n",
       "    <tr>\n",
       "      <th>14</th>\n",
       "      <td>0.11695</td>\n",
       "      <td>0.0949</td>\n",
       "    </tr>\n",
       "    <tr>\n",
       "      <th>15</th>\n",
       "      <td>0.35797</td>\n",
       "      <td>0.3177</td>\n",
       "    </tr>\n",
       "    <tr>\n",
       "      <th>16</th>\n",
       "      <td>0.30748</td>\n",
       "      <td>0.2809</td>\n",
       "    </tr>\n",
       "    <tr>\n",
       "      <th>17</th>\n",
       "      <td>0.13202</td>\n",
       "      <td>0.1250</td>\n",
       "    </tr>\n",
       "    <tr>\n",
       "      <th>18</th>\n",
       "      <td>0.12528</td>\n",
       "      <td>0.0974</td>\n",
       "    </tr>\n",
       "    <tr>\n",
       "      <th>19</th>\n",
       "      <td>0.24754</td>\n",
       "      <td>0.2225</td>\n",
       "    </tr>\n",
       "    <tr>\n",
       "      <th>20</th>\n",
       "      <td>0.16732</td>\n",
       "      <td>0.1314</td>\n",
       "    </tr>\n",
       "    <tr>\n",
       "      <th>21</th>\n",
       "      <td>0.21488</td>\n",
       "      <td>0.2075</td>\n",
       "    </tr>\n",
       "    <tr>\n",
       "      <th>22</th>\n",
       "      <td>0.35356</td>\n",
       "      <td>0.3134</td>\n",
       "    </tr>\n",
       "    <tr>\n",
       "      <th>23</th>\n",
       "      <td>0.28032</td>\n",
       "      <td>0.2419</td>\n",
       "    </tr>\n",
       "    <tr>\n",
       "      <th>24</th>\n",
       "      <td>0.19859</td>\n",
       "      <td>0.1620</td>\n",
       "    </tr>\n",
       "    <tr>\n",
       "      <th>25</th>\n",
       "      <td>0.30182</td>\n",
       "      <td>0.2629</td>\n",
       "    </tr>\n",
       "    <tr>\n",
       "      <th>26</th>\n",
       "      <td>0.30748</td>\n",
       "      <td>0.2809</td>\n",
       "    </tr>\n",
       "    <tr>\n",
       "      <th>27</th>\n",
       "      <td>0.11296</td>\n",
       "      <td>0.0920</td>\n",
       "    </tr>\n",
       "    <tr>\n",
       "      <th>28</th>\n",
       "      <td>0.20268</td>\n",
       "      <td>0.1660</td>\n",
       "    </tr>\n",
       "    <tr>\n",
       "      <th>29</th>\n",
       "      <td>0.15223</td>\n",
       "      <td>0.1239</td>\n",
       "    </tr>\n",
       "    <tr>\n",
       "      <th>30</th>\n",
       "      <td>0.12782</td>\n",
       "      <td>0.0999</td>\n",
       "    </tr>\n",
       "    <tr>\n",
       "      <th>31</th>\n",
       "      <td>0.35797</td>\n",
       "      <td>0.3177</td>\n",
       "    </tr>\n",
       "    <tr>\n",
       "      <th>32</th>\n",
       "      <td>0.16324</td>\n",
       "      <td>0.1274</td>\n",
       "    </tr>\n",
       "    <tr>\n",
       "      <th>33</th>\n",
       "      <td>0.08191</td>\n",
       "      <td>0.0785</td>\n",
       "    </tr>\n",
       "    <tr>\n",
       "      <th>34</th>\n",
       "      <td>0.22966</td>\n",
       "      <td>0.1920</td>\n",
       "    </tr>\n",
       "    <tr>\n",
       "      <th>35</th>\n",
       "      <td>0.19108</td>\n",
       "      <td>0.1621</td>\n",
       "    </tr>\n",
       "    <tr>\n",
       "      <th>36</th>\n",
       "      <td>0.32446</td>\n",
       "      <td>0.2850</td>\n",
       "    </tr>\n",
       "    <tr>\n",
       "      <th>37</th>\n",
       "      <td>0.28544</td>\n",
       "      <td>0.2469</td>\n",
       "    </tr>\n",
       "    <tr>\n",
       "      <th>38</th>\n",
       "      <td>0.08930</td>\n",
       "      <td>0.0759</td>\n",
       "    </tr>\n",
       "    <tr>\n",
       "      <th>39</th>\n",
       "      <td>0.15211</td>\n",
       "      <td>0.1450</td>\n",
       "    </tr>\n",
       "    <tr>\n",
       "      <th>40</th>\n",
       "      <td>0.19630</td>\n",
       "      <td>0.1725</td>\n",
       "    </tr>\n",
       "    <tr>\n",
       "      <th>41</th>\n",
       "      <td>0.23318</td>\n",
       "      <td>0.2085</td>\n",
       "    </tr>\n",
       "    <tr>\n",
       "      <th>42</th>\n",
       "      <td>0.30300</td>\n",
       "      <td>0.2900</td>\n",
       "    </tr>\n",
       "    <tr>\n",
       "      <th>43</th>\n",
       "      <td>0.21290</td>\n",
       "      <td>0.1760</td>\n",
       "    </tr>\n",
       "    <tr>\n",
       "      <th>44</th>\n",
       "      <td>0.21025</td>\n",
       "      <td>0.1734</td>\n",
       "    </tr>\n",
       "    <tr>\n",
       "      <th>45</th>\n",
       "      <td>0.13227</td>\n",
       "      <td>0.1099</td>\n",
       "    </tr>\n",
       "    <tr>\n",
       "      <th>46</th>\n",
       "      <td>0.17170</td>\n",
       "      <td>0.1500</td>\n",
       "    </tr>\n",
       "    <tr>\n",
       "      <th>47</th>\n",
       "      <td>0.15833</td>\n",
       "      <td>0.1299</td>\n",
       "    </tr>\n",
       "    <tr>\n",
       "      <th>48</th>\n",
       "      <td>0.17522</td>\n",
       "      <td>0.1519</td>\n",
       "    </tr>\n",
       "    <tr>\n",
       "      <th>49</th>\n",
       "      <td>0.11695</td>\n",
       "      <td>0.0949</td>\n",
       "    </tr>\n",
       "  </tbody>\n",
       "</table>\n",
       "</div>"
      ],
      "text/plain": [
       "    BorrowerAPR  BorrowerRate\n",
       "0       0.16516        0.1580\n",
       "1       0.12016        0.0920\n",
       "2       0.28269        0.2750\n",
       "3       0.12528        0.0974\n",
       "4       0.24614        0.2085\n",
       "5       0.15425        0.1314\n",
       "6       0.31032        0.2712\n",
       "7       0.23939        0.2019\n",
       "8       0.07620        0.0629\n",
       "9       0.07620        0.0629\n",
       "10      0.27462        0.2489\n",
       "11      0.15033        0.1325\n",
       "12      0.17969        0.1435\n",
       "13      0.13138        0.1034\n",
       "14      0.11695        0.0949\n",
       "15      0.35797        0.3177\n",
       "16      0.30748        0.2809\n",
       "17      0.13202        0.1250\n",
       "18      0.12528        0.0974\n",
       "19      0.24754        0.2225\n",
       "20      0.16732        0.1314\n",
       "21      0.21488        0.2075\n",
       "22      0.35356        0.3134\n",
       "23      0.28032        0.2419\n",
       "24      0.19859        0.1620\n",
       "25      0.30182        0.2629\n",
       "26      0.30748        0.2809\n",
       "27      0.11296        0.0920\n",
       "28      0.20268        0.1660\n",
       "29      0.15223        0.1239\n",
       "30      0.12782        0.0999\n",
       "31      0.35797        0.3177\n",
       "32      0.16324        0.1274\n",
       "33      0.08191        0.0785\n",
       "34      0.22966        0.1920\n",
       "35      0.19108        0.1621\n",
       "36      0.32446        0.2850\n",
       "37      0.28544        0.2469\n",
       "38      0.08930        0.0759\n",
       "39      0.15211        0.1450\n",
       "40      0.19630        0.1725\n",
       "41      0.23318        0.2085\n",
       "42      0.30300        0.2900\n",
       "43      0.21290        0.1760\n",
       "44      0.21025        0.1734\n",
       "45      0.13227        0.1099\n",
       "46      0.17170        0.1500\n",
       "47      0.15833        0.1299\n",
       "48      0.17522        0.1519\n",
       "49      0.11695        0.0949"
      ]
     },
     "execution_count": 54,
     "metadata": {},
     "output_type": "execute_result"
    }
   ],
   "source": [
    "df[['BorrowerAPR', 'BorrowerRate']][:50]"
   ]
  },
  {
   "cell_type": "code",
   "execution_count": 18,
   "metadata": {},
   "outputs": [
    {
     "data": {
      "text/plain": [
       "count    113912.000000\n",
       "mean          0.218828\n",
       "std           0.080364\n",
       "min           0.006530\n",
       "25%           0.156290\n",
       "50%           0.209760\n",
       "75%           0.283810\n",
       "max           0.512290\n",
       "Name: BorrowerAPR, dtype: float64"
      ]
     },
     "execution_count": 18,
     "metadata": {},
     "output_type": "execute_result"
    }
   ],
   "source": [
    "df.BorrowerAPR.describe()"
   ]
  },
  {
   "cell_type": "code",
   "execution_count": 86,
   "metadata": {},
   "outputs": [
    {
     "data": {
      "text/plain": [
       "Index(['ListingNumber', 'ListingCreationDate', 'CreditGrade', 'Term',\n",
       "       'LoanStatus', 'ClosedDate', 'BorrowerAPR', 'BorrowerRate',\n",
       "       'ProsperRating', 'ListingCategory', 'BorrowerState', 'Occupation',\n",
       "       'EmploymentStatus', 'IsBorrowerHomeowner', 'CreditScoreRangeLower',\n",
       "       'CreditScoreRangeUpper', 'CreditScoreRangeUpper', 'CurrentCreditLines',\n",
       "       'AvailableBankcardCredit', 'DebtToIncomeRatio', 'StatedMonthlyIncome',\n",
       "       'LoanOriginalAmount', 'MonthlyLoanPayment'],\n",
       "      dtype='object')"
      ]
     },
     "execution_count": 86,
     "metadata": {},
     "output_type": "execute_result"
    }
   ],
   "source": [
    "df.columns"
   ]
  },
  {
   "cell_type": "code",
   "execution_count": 60,
   "metadata": {},
   "outputs": [],
   "source": [
    "select_metrics = ['ListingNumber', 'ListingCreationDate', 'CreditGrade', 'Term', 'LoanStatus',\n",
    "                 'ClosedDate', 'BorrowerAPR', 'BorrowerRate', 'ProsperRating (numeric)', \n",
    "                 'ListingCategory (numeric)', 'BorrowerState', 'Occupation', 'EmploymentStatus',\n",
    "                 'IsBorrowerHomeowner', 'CreditScoreRangeLower', 'CreditScoreRangeUpper' ,\n",
    "                 'CreditScoreRangeUpper', 'CurrentCreditLines' , 'AvailableBankcardCredit' ,  \n",
    "                 'DebtToIncomeRatio','StatedMonthlyIncome','LoanOriginalAmount','MonthlyLoanPayment']\n"
   ]
  },
  {
   "cell_type": "code",
   "execution_count": 61,
   "metadata": {},
   "outputs": [],
   "source": [
    "#df = pd.read_csv('...', usecols = select_metrics )\n",
    "df = df[select_metrics].copy()"
   ]
  },
  {
   "cell_type": "code",
   "execution_count": 67,
   "metadata": {},
   "outputs": [
    {
     "data": {
      "text/plain": [
       "(113066, 23)"
      ]
     },
     "execution_count": 67,
     "metadata": {},
     "output_type": "execute_result"
    }
   ],
   "source": [
    "df.shape"
   ]
  },
  {
   "cell_type": "code",
   "execution_count": 66,
   "metadata": {},
   "outputs": [],
   "source": [
    "df.drop_duplicates(inplace = True)"
   ]
  },
  {
   "cell_type": "code",
   "execution_count": 71,
   "metadata": {},
   "outputs": [
    {
     "data": {
      "text/plain": [
       "str"
      ]
     },
     "execution_count": 71,
     "metadata": {},
     "output_type": "execute_result"
    }
   ],
   "source": [
    "type(df.ListingCreationDate[1])"
   ]
  },
  {
   "cell_type": "code",
   "execution_count": 77,
   "metadata": {},
   "outputs": [
    {
     "data": {
      "text/plain": [
       "Timestamp('2014-03-10 12:20:53.760000')"
      ]
     },
     "execution_count": 77,
     "metadata": {},
     "output_type": "execute_result"
    }
   ],
   "source": [
    "df.ListingCreationDate = pd.to_datetime( df.ListingCreationDate)\n",
    "df.ListingCreationDate.max()"
   ]
  },
  {
   "cell_type": "code",
   "execution_count": 78,
   "metadata": {},
   "outputs": [
    {
     "data": {
      "text/plain": [
       "Timestamp('2005-11-09 20:44:28.847000')"
      ]
     },
     "execution_count": 78,
     "metadata": {},
     "output_type": "execute_result"
    }
   ],
   "source": [
    "df.ListingCreationDate.min()"
   ]
  },
  {
   "cell_type": "code",
   "execution_count": 83,
   "metadata": {},
   "outputs": [],
   "source": [
    "df = df.rename(columns = {'ProsperRating (numeric)':'ProsperRating','ListingCategory (numeric)':'ListingCategory'})"
   ]
  },
  {
   "cell_type": "code",
   "execution_count": 1,
   "metadata": {
    "scrolled": false
   },
   "outputs": [
    {
     "ename": "NameError",
     "evalue": "name 'df' is not defined",
     "output_type": "error",
     "traceback": [
      "\u001b[1;31m---------------------------------------------------------------------------\u001b[0m",
      "\u001b[1;31mNameError\u001b[0m                                 Traceback (most recent call last)",
      "\u001b[1;32m<ipython-input-1-c42a15b2c7cf>\u001b[0m in \u001b[0;36m<module>\u001b[1;34m\u001b[0m\n\u001b[1;32m----> 1\u001b[1;33m \u001b[0mdf\u001b[0m\u001b[1;33m.\u001b[0m\u001b[0mhead\u001b[0m\u001b[1;33m(\u001b[0m\u001b[1;33m)\u001b[0m\u001b[1;33m\u001b[0m\u001b[1;33m\u001b[0m\u001b[0m\n\u001b[0m",
      "\u001b[1;31mNameError\u001b[0m: name 'df' is not defined"
     ]
    }
   ],
   "source": [
    "df.head()"
   ]
  },
  {
   "cell_type": "code",
   "execution_count": 76,
   "metadata": {},
   "outputs": [
    {
     "data": {
      "text/html": [
       "<div>\n",
       "<style scoped>\n",
       "    .dataframe tbody tr th:only-of-type {\n",
       "        vertical-align: middle;\n",
       "    }\n",
       "\n",
       "    .dataframe tbody tr th {\n",
       "        vertical-align: top;\n",
       "    }\n",
       "\n",
       "    .dataframe thead th {\n",
       "        text-align: right;\n",
       "    }\n",
       "</style>\n",
       "<table border=\"1\" class=\"dataframe\">\n",
       "  <thead>\n",
       "    <tr style=\"text-align: right;\">\n",
       "      <th></th>\n",
       "      <th>ListingNumber</th>\n",
       "      <th>Term</th>\n",
       "      <th>BorrowerAPR</th>\n",
       "      <th>BorrowerRate</th>\n",
       "      <th>ProsperRating (numeric)</th>\n",
       "      <th>ListingCategory (numeric)</th>\n",
       "      <th>CreditScoreRangeLower</th>\n",
       "      <th>CreditScoreRangeUpper</th>\n",
       "      <th>CreditScoreRangeUpper</th>\n",
       "      <th>CurrentCreditLines</th>\n",
       "      <th>AvailableBankcardCredit</th>\n",
       "      <th>DebtToIncomeRatio</th>\n",
       "      <th>StatedMonthlyIncome</th>\n",
       "      <th>LoanOriginalAmount</th>\n",
       "      <th>MonthlyLoanPayment</th>\n",
       "    </tr>\n",
       "  </thead>\n",
       "  <tbody>\n",
       "    <tr>\n",
       "      <th>count</th>\n",
       "      <td>1.130660e+05</td>\n",
       "      <td>113066.000000</td>\n",
       "      <td>113041.000000</td>\n",
       "      <td>113066.000000</td>\n",
       "      <td>83982.000000</td>\n",
       "      <td>113066.000000</td>\n",
       "      <td>112475.000000</td>\n",
       "      <td>112475.000000</td>\n",
       "      <td>112475.000000</td>\n",
       "      <td>105462.000000</td>\n",
       "      <td>105522.000000</td>\n",
       "      <td>104594.000000</td>\n",
       "      <td>1.130660e+05</td>\n",
       "      <td>113066.000000</td>\n",
       "      <td>113066.000000</td>\n",
       "    </tr>\n",
       "    <tr>\n",
       "      <th>mean</th>\n",
       "      <td>6.248036e+05</td>\n",
       "      <td>40.800170</td>\n",
       "      <td>0.218980</td>\n",
       "      <td>0.192946</td>\n",
       "      <td>4.068705</td>\n",
       "      <td>2.776838</td>\n",
       "      <td>685.524961</td>\n",
       "      <td>704.524961</td>\n",
       "      <td>704.524961</td>\n",
       "      <td>10.307058</td>\n",
       "      <td>11208.182028</td>\n",
       "      <td>0.276032</td>\n",
       "      <td>5.605120e+03</td>\n",
       "      <td>8314.762307</td>\n",
       "      <td>271.932742</td>\n",
       "    </tr>\n",
       "    <tr>\n",
       "      <th>std</th>\n",
       "      <td>3.273262e+05</td>\n",
       "      <td>10.421518</td>\n",
       "      <td>0.080483</td>\n",
       "      <td>0.074917</td>\n",
       "      <td>1.675442</td>\n",
       "      <td>3.998188</td>\n",
       "      <td>66.635895</td>\n",
       "      <td>66.635895</td>\n",
       "      <td>66.635895</td>\n",
       "      <td>5.458196</td>\n",
       "      <td>19847.681185</td>\n",
       "      <td>0.553738</td>\n",
       "      <td>7.495596e+03</td>\n",
       "      <td>6237.007841</td>\n",
       "      <td>192.549979</td>\n",
       "    </tr>\n",
       "    <tr>\n",
       "      <th>min</th>\n",
       "      <td>4.000000e+00</td>\n",
       "      <td>12.000000</td>\n",
       "      <td>0.006530</td>\n",
       "      <td>0.000000</td>\n",
       "      <td>1.000000</td>\n",
       "      <td>0.000000</td>\n",
       "      <td>0.000000</td>\n",
       "      <td>19.000000</td>\n",
       "      <td>19.000000</td>\n",
       "      <td>0.000000</td>\n",
       "      <td>0.000000</td>\n",
       "      <td>0.000000</td>\n",
       "      <td>0.000000e+00</td>\n",
       "      <td>1000.000000</td>\n",
       "      <td>0.000000</td>\n",
       "    </tr>\n",
       "    <tr>\n",
       "      <th>25%</th>\n",
       "      <td>3.976670e+05</td>\n",
       "      <td>36.000000</td>\n",
       "      <td>0.156290</td>\n",
       "      <td>0.134000</td>\n",
       "      <td>3.000000</td>\n",
       "      <td>1.000000</td>\n",
       "      <td>660.000000</td>\n",
       "      <td>679.000000</td>\n",
       "      <td>679.000000</td>\n",
       "      <td>7.000000</td>\n",
       "      <td>876.000000</td>\n",
       "      <td>0.140000</td>\n",
       "      <td>3.199396e+03</td>\n",
       "      <td>4000.000000</td>\n",
       "      <td>130.950000</td>\n",
       "    </tr>\n",
       "    <tr>\n",
       "      <th>50%</th>\n",
       "      <td>5.978385e+05</td>\n",
       "      <td>36.000000</td>\n",
       "      <td>0.209840</td>\n",
       "      <td>0.184000</td>\n",
       "      <td>4.000000</td>\n",
       "      <td>1.000000</td>\n",
       "      <td>680.000000</td>\n",
       "      <td>699.000000</td>\n",
       "      <td>699.000000</td>\n",
       "      <td>10.000000</td>\n",
       "      <td>4090.000000</td>\n",
       "      <td>0.220000</td>\n",
       "      <td>4.666667e+03</td>\n",
       "      <td>6300.000000</td>\n",
       "      <td>217.370000</td>\n",
       "    </tr>\n",
       "    <tr>\n",
       "      <th>75%</th>\n",
       "      <td>8.849650e+05</td>\n",
       "      <td>36.000000</td>\n",
       "      <td>0.283860</td>\n",
       "      <td>0.250600</td>\n",
       "      <td>5.000000</td>\n",
       "      <td>3.000000</td>\n",
       "      <td>720.000000</td>\n",
       "      <td>739.000000</td>\n",
       "      <td>739.000000</td>\n",
       "      <td>13.000000</td>\n",
       "      <td>13165.000000</td>\n",
       "      <td>0.320000</td>\n",
       "      <td>6.824688e+03</td>\n",
       "      <td>12000.000000</td>\n",
       "      <td>370.570000</td>\n",
       "    </tr>\n",
       "    <tr>\n",
       "      <th>max</th>\n",
       "      <td>1.255725e+06</td>\n",
       "      <td>60.000000</td>\n",
       "      <td>0.512290</td>\n",
       "      <td>0.497500</td>\n",
       "      <td>7.000000</td>\n",
       "      <td>20.000000</td>\n",
       "      <td>880.000000</td>\n",
       "      <td>899.000000</td>\n",
       "      <td>899.000000</td>\n",
       "      <td>59.000000</td>\n",
       "      <td>646285.000000</td>\n",
       "      <td>10.010000</td>\n",
       "      <td>1.750003e+06</td>\n",
       "      <td>35000.000000</td>\n",
       "      <td>2251.510000</td>\n",
       "    </tr>\n",
       "  </tbody>\n",
       "</table>\n",
       "</div>"
      ],
      "text/plain": [
       "       ListingNumber           Term    BorrowerAPR   BorrowerRate  \\\n",
       "count   1.130660e+05  113066.000000  113041.000000  113066.000000   \n",
       "mean    6.248036e+05      40.800170       0.218980       0.192946   \n",
       "std     3.273262e+05      10.421518       0.080483       0.074917   \n",
       "min     4.000000e+00      12.000000       0.006530       0.000000   \n",
       "25%     3.976670e+05      36.000000       0.156290       0.134000   \n",
       "50%     5.978385e+05      36.000000       0.209840       0.184000   \n",
       "75%     8.849650e+05      36.000000       0.283860       0.250600   \n",
       "max     1.255725e+06      60.000000       0.512290       0.497500   \n",
       "\n",
       "       ProsperRating (numeric)  ListingCategory (numeric)  \\\n",
       "count             83982.000000              113066.000000   \n",
       "mean                  4.068705                   2.776838   \n",
       "std                   1.675442                   3.998188   \n",
       "min                   1.000000                   0.000000   \n",
       "25%                   3.000000                   1.000000   \n",
       "50%                   4.000000                   1.000000   \n",
       "75%                   5.000000                   3.000000   \n",
       "max                   7.000000                  20.000000   \n",
       "\n",
       "       CreditScoreRangeLower  CreditScoreRangeUpper  CreditScoreRangeUpper  \\\n",
       "count          112475.000000          112475.000000          112475.000000   \n",
       "mean              685.524961             704.524961             704.524961   \n",
       "std                66.635895              66.635895              66.635895   \n",
       "min                 0.000000              19.000000              19.000000   \n",
       "25%               660.000000             679.000000             679.000000   \n",
       "50%               680.000000             699.000000             699.000000   \n",
       "75%               720.000000             739.000000             739.000000   \n",
       "max               880.000000             899.000000             899.000000   \n",
       "\n",
       "       CurrentCreditLines  AvailableBankcardCredit  DebtToIncomeRatio  \\\n",
       "count       105462.000000            105522.000000      104594.000000   \n",
       "mean            10.307058             11208.182028           0.276032   \n",
       "std              5.458196             19847.681185           0.553738   \n",
       "min              0.000000                 0.000000           0.000000   \n",
       "25%              7.000000               876.000000           0.140000   \n",
       "50%             10.000000              4090.000000           0.220000   \n",
       "75%             13.000000             13165.000000           0.320000   \n",
       "max             59.000000            646285.000000          10.010000   \n",
       "\n",
       "       StatedMonthlyIncome  LoanOriginalAmount  MonthlyLoanPayment  \n",
       "count         1.130660e+05       113066.000000       113066.000000  \n",
       "mean          5.605120e+03         8314.762307          271.932742  \n",
       "std           7.495596e+03         6237.007841          192.549979  \n",
       "min           0.000000e+00         1000.000000            0.000000  \n",
       "25%           3.199396e+03         4000.000000          130.950000  \n",
       "50%           4.666667e+03         6300.000000          217.370000  \n",
       "75%           6.824688e+03        12000.000000          370.570000  \n",
       "max           1.750003e+06        35000.000000         2251.510000  "
      ]
     },
     "execution_count": 76,
     "metadata": {},
     "output_type": "execute_result"
    }
   ],
   "source": [
    "df.describe()"
   ]
  },
  {
   "cell_type": "code",
   "execution_count": 10,
   "metadata": {},
   "outputs": [],
   "source": [
    "df.to_csv('selectLoanData.csv', index = False )"
   ]
  },
  {
   "cell_type": "markdown",
   "metadata": {},
   "source": [
    "### What is the structure of your dataset?\n",
    "\n",
    "> It's a table of 113937 rows, each of which a loan listing, and 81 columns, denoting properties of the loan. By selecting a subset of the properties (as in select_metrics), then removing duplicate rows, the dataset reduces to size of 113026 x 23. The years range from 2005 to 2014.\n",
    "\n",
    "### What is/are the main feature(s) of interest in your dataset?\n",
    "\n",
    "> 'LoanStatus', 'BorrowerRate','LoanOriginalAmount'\n",
    "\n",
    "\n",
    "### What features in the dataset do you think will help support your investigation into your feature(s) of interest?\n",
    "\n",
    "> 'StatedMonthlyIncome','DebtToIncomeRatio','CreditScoreRangeLower', "
   ]
  },
  {
   "cell_type": "markdown",
   "metadata": {},
   "source": [
    "## Univariate Exploration\n",
    "\n",
    "> In this section, investigate distributions of individual variables. If\n",
    "you see unusual points or outliers, take a deeper look to clean things up\n",
    "and prepare yourself to look at relationships between variables."
   ]
  },
  {
   "cell_type": "code",
   "execution_count": 9,
   "metadata": {},
   "outputs": [],
   "source": [
    "df.drop('CreditScoreRangeUpper.1', axis=1, inplace = True)"
   ]
  },
  {
   "cell_type": "code",
   "execution_count": 77,
   "metadata": {},
   "outputs": [
    {
     "name": "stdout",
     "output_type": "stream",
     "text": [
      "<class 'pandas.core.frame.DataFrame'>\n",
      "RangeIndex: 113066 entries, 0 to 113065\n",
      "Data columns (total 22 columns):\n",
      "ListingNumber              113066 non-null int64\n",
      "ListingCreationDate        113066 non-null object\n",
      "CreditGrade                28953 non-null object\n",
      "Term                       113066 non-null int64\n",
      "LoanStatus                 113066 non-null object\n",
      "ClosedDate                 55076 non-null object\n",
      "BorrowerAPR                113041 non-null float64\n",
      "BorrowerRate               113066 non-null float64\n",
      "ProsperRating              83982 non-null float64\n",
      "ListingCategory            113066 non-null int64\n",
      "BorrowerState              107551 non-null object\n",
      "Occupation                 109537 non-null object\n",
      "EmploymentStatus           110811 non-null object\n",
      "IsBorrowerHomeowner        113066 non-null bool\n",
      "CreditScoreRangeLower      112475 non-null float64\n",
      "CreditScoreRangeUpper      112475 non-null float64\n",
      "CurrentCreditLines         105462 non-null float64\n",
      "AvailableBankcardCredit    105522 non-null float64\n",
      "DebtToIncomeRatio          104594 non-null float64\n",
      "StatedMonthlyIncome        113066 non-null float64\n",
      "LoanOriginalAmount         113066 non-null int64\n",
      "MonthlyLoanPayment         113066 non-null float64\n",
      "dtypes: bool(1), float64(10), int64(4), object(7)\n",
      "memory usage: 18.2+ MB\n"
     ]
    }
   ],
   "source": [
    "df.info()"
   ]
  },
  {
   "cell_type": "code",
   "execution_count": 86,
   "metadata": {},
   "outputs": [
    {
     "data": {
      "text/plain": [
       "True     57052\n",
       "False    56014\n",
       "Name: IsBorrowerHomeowner, dtype: int64"
      ]
     },
     "execution_count": 86,
     "metadata": {},
     "output_type": "execute_result"
    }
   ],
   "source": [
    "df.IsBorrowerHomeowner.value_counts()"
   ]
  },
  {
   "cell_type": "code",
   "execution_count": 88,
   "metadata": {},
   "outputs": [
    {
     "data": {
      "text/plain": [
       "Text(0.5, 0, 'Is borrower home owner')"
      ]
     },
     "execution_count": 88,
     "metadata": {},
     "output_type": "execute_result"
    },
    {
     "data": {
      "image/png": "[encoded data removed]",
      "text/plain": [
       "<Figure size 432x288 with 1 Axes>"
      ]
     },
     "metadata": {
      "needs_background": "light"
     },
     "output_type": "display_data"
    }
   ],
   "source": [
    "sb.countplot(data = df, x = 'IsBorrowerHomeowner')\n",
    "plt.xlabel('Is borrower home owner')"
   ]
  },
  {
   "cell_type": "code",
   "execution_count": 85,
   "metadata": {},
   "outputs": [
    {
     "data": {
      "image/png": "[encoded data removed]",
      "text/plain": [
       "<Figure size 864x1080 with 10 Axes>"
      ]
     },
     "metadata": {
      "needs_background": "light"
     },
     "output_type": "display_data"
    }
   ],
   "source": [
    "metrics = ['LoanStatus', 'BorrowerRate','ListingCategory','LoanOriginalAmount','Term','MonthlyLoanPayment',\n",
    " 'StatedMonthlyIncome','DebtToIncomeRatio','CreditScoreRangeLower','CreditScoreRangeUpper' ]\n",
    "plt.figure(figsize = [12,15] )\n",
    "i=0\n",
    "for m in metrics:\n",
    "    i+=1\n",
    "    plt.subplot(4,3,i)\n",
    "    plt.hist(data = df, x=m, bins = 20)\n",
    "    plt.xlabel(m)\n",
    "    #plt.xticks(rotation = 15)\n",
    "   "
   ]
  },
  {
   "cell_type": "code",
   "execution_count": 57,
   "metadata": {},
   "outputs": [
    {
     "data": {
      "text/plain": [
       "36    87224\n",
       "60    24228\n",
       "12     1614\n",
       "Name: Term, dtype: int64"
      ]
     },
     "execution_count": 57,
     "metadata": {},
     "output_type": "execute_result"
    }
   ],
   "source": [
    "df.Term.value_counts()"
   ]
  },
  {
   "cell_type": "markdown",
   "metadata": {},
   "source": [
    "credit score lower and upper are fairly consistent with each other."
   ]
  },
  {
   "cell_type": "markdown",
   "metadata": {},
   "source": [
    "These are all short term loans, with majority at 3 years."
   ]
  },
  {
   "cell_type": "markdown",
   "metadata": {},
   "source": [
    "Loan Categories:\n",
    "\n",
    "|Code | Category |\n",
    "| --- | ------------------ |\n",
    "| 0 | Not Available |\n",
    "| 1 | Debt Consolidation|\n",
    "| 2 | Home Improvement|\n",
    "| 3 | Business|\n",
    "| 4 | Personal Loan|\n",
    "| 5 | Student Use|\n",
    "| 6 | Auto|\n",
    "| 7 | Other|\n",
    "| 8 | Baby&Adoption|\n",
    "| 9 | Boat|\n",
    "| 10 | Cosmetic Procedure|\n",
    "| 11 | Engagement Ring|\n",
    "| 12 | Green Loans|\n",
    "| 13 | Household Expenses|\n",
    "| 14 | Large Purchases|\n",
    "| 15 | Medical/Dental|\n",
    "| 16 | Motorcycle|\n",
    "| 17 | RV|\n",
    "| 18 | Taxes|\n",
    "| 19 | Vacation|\n",
    "| 20 | Wedding Loans"
   ]
  },
  {
   "cell_type": "code",
   "execution_count": 58,
   "metadata": {},
   "outputs": [
    {
     "data": {
      "text/plain": [
       "1     57624\n",
       "0     16965\n",
       "7     10448\n",
       "2      7388\n",
       "3      7157\n",
       "6      2568\n",
       "4      2395\n",
       "13     1987\n",
       "15     1507\n",
       "18      882\n",
       "14      863\n",
       "19      764\n",
       "20      762\n",
       "5       756\n",
       "16      304\n",
       "11      214\n",
       "8       196\n",
       "10       91\n",
       "9        85\n",
       "12       58\n",
       "17       52\n",
       "Name: ListingCategory, dtype: int64"
      ]
     },
     "execution_count": 58,
     "metadata": {},
     "output_type": "execute_result"
    }
   ],
   "source": [
    "df.ListingCategory.value_counts()"
   ]
  },
  {
   "cell_type": "markdown",
   "metadata": {},
   "source": [
    "Majority of the loans are for debt consolidation. Other notable loan types are 'home improvement' and 'business'."
   ]
  },
  {
   "cell_type": "markdown",
   "metadata": {},
   "source": [
    "'StatedMonthlyIncome','DebtToIncomeRatio', 'LoanStatus' need to be replotted individually"
   ]
  },
  {
   "cell_type": "code",
   "execution_count": 25,
   "metadata": {},
   "outputs": [
    {
     "data": {
      "text/plain": [
       "''"
      ]
     },
     "execution_count": 25,
     "metadata": {},
     "output_type": "execute_result"
    },
    {
     "data": {
      "image/png": "[encoded data removed]",
      "text/plain": [
       "<Figure size 432x288 with 1 Axes>"
      ]
     },
     "metadata": {
      "needs_background": "light"
     },
     "output_type": "display_data"
    }
   ],
   "source": [
    "b_color = sb.color_palette()[2]\n",
    "sb.countplot(data = df, x = 'LoanStatus', color = b_color)\n",
    "plt.xticks(rotation = 90)\n",
    ";"
   ]
  },
  {
   "cell_type": "code",
   "execution_count": 172,
   "metadata": {},
   "outputs": [
    {
     "data": {
      "text/plain": [
       "Current                   51558\n",
       "Completed                 34975\n",
       "Chargedoff                10568\n",
       "Defaulted                  4657\n",
       "Past Due (1-15 days)        714\n",
       "Past Due (31-60 days)       323\n",
       "Past Due (91-120 days)      274\n",
       "Past Due (61-90 days)       268\n",
       "Past Due (16-30 days)       239\n",
       "FinalPaymentInProgress      187\n",
       "Past Due (>120 days)         14\n",
       "Cancelled                     5\n",
       "Name: LoanStatus, dtype: int64"
      ]
     },
     "execution_count": 172,
     "metadata": {},
     "output_type": "execute_result"
    }
   ],
   "source": [
    "df2.LoanStatus.value_counts()"
   ]
  },
  {
   "cell_type": "markdown",
   "metadata": {},
   "source": [
    "Seaborn countplot() does a better job than pyplot hist() in plotting LoanStatus. Majority of the loan is current or completed, followed by 'Chargedoff' and 'Defaulted'."
   ]
  },
  {
   "cell_type": "code",
   "execution_count": 27,
   "metadata": {},
   "outputs": [
    {
     "data": {
      "text/plain": [
       "4166.666667    3486\n",
       "5000.000000    3367\n",
       "3333.333333    2889\n",
       "3750.000000    2399\n",
       "5416.666667    2351\n",
       "               ... \n",
       "6669.833333       1\n",
       "2207.166667       1\n",
       "6520.000000       1\n",
       "4436.333333       1\n",
       "3928.583333       1\n",
       "Name: StatedMonthlyIncome, Length: 13502, dtype: int64"
      ]
     },
     "execution_count": 27,
     "metadata": {},
     "output_type": "execute_result"
    }
   ],
   "source": [
    "df.StatedMonthlyIncome.value_counts()"
   ]
  },
  {
   "cell_type": "code",
   "execution_count": 29,
   "metadata": {},
   "outputs": [
    {
     "data": {
      "text/plain": [
       "count    1.130660e+05\n",
       "mean     5.605120e+03\n",
       "std      7.495596e+03\n",
       "min      0.000000e+00\n",
       "25%      3.199396e+03\n",
       "50%      4.666667e+03\n",
       "75%      6.824688e+03\n",
       "max      1.750003e+06\n",
       "Name: StatedMonthlyIncome, dtype: float64"
      ]
     },
     "execution_count": 29,
     "metadata": {},
     "output_type": "execute_result"
    }
   ],
   "source": [
    "df.StatedMonthlyIncome.describe()"
   ]
  },
  {
   "cell_type": "code",
   "execution_count": 62,
   "metadata": {},
   "outputs": [
    {
     "data": {
      "text/plain": [
       "''"
      ]
     },
     "execution_count": 62,
     "metadata": {},
     "output_type": "execute_result"
    },
    {
     "data": {
      "image/png": "[encoded data removed]",
      "text/plain": [
       "<Figure size 432x288 with 1 Axes>"
      ]
     },
     "metadata": {
      "needs_background": "light"
     },
     "output_type": "display_data"
    }
   ],
   "source": [
    "plt.hist( x = df['StatedMonthlyIncome'][df.StatedMonthlyIncome<=20000], bins = 40)\n",
    "plt.xlabel('Monthly Income')\n",
    ";"
   ]
  },
  {
   "cell_type": "code",
   "execution_count": 76,
   "metadata": {},
   "outputs": [
    {
     "data": {
      "text/plain": [
       "0.012329082129021987"
      ]
     },
     "execution_count": 76,
     "metadata": {},
     "output_type": "execute_result"
    }
   ],
   "source": [
    "df[df.StatedMonthlyIncome<0.01].shape[0]/df.shape[0]"
   ]
  },
  {
   "cell_type": "markdown",
   "metadata": {},
   "source": [
    "1.23% of the loans have monthly income less than 1 cent. Strange."
   ]
  },
  {
   "cell_type": "code",
   "execution_count": 74,
   "metadata": {},
   "outputs": [
    {
     "data": {
      "text/plain": [
       "(113066, 22)"
      ]
     },
     "execution_count": 74,
     "metadata": {},
     "output_type": "execute_result"
    }
   ],
   "source": [
    "df.shape"
   ]
  },
  {
   "cell_type": "code",
   "execution_count": 63,
   "metadata": {},
   "outputs": [
    {
     "data": {
      "text/plain": [
       "(100, 100000)"
      ]
     },
     "execution_count": 63,
     "metadata": {},
     "output_type": "execute_result"
    },
    {
     "data": {
      "image/png": "[encoded data removed]",
      "text/plain": [
       "<Figure size 576x288 with 1 Axes>"
      ]
     },
     "metadata": {
      "needs_background": "light"
     },
     "output_type": "display_data"
    }
   ],
   "source": [
    "plt.figure(figsize = [8,4])\n",
    "xt = 10**np.arange(1,7, 0.1)\n",
    "plt.hist( x = df['StatedMonthlyIncome'], bins= xt )\n",
    "plt.xscale('log')\n",
    "plt.xlabel('Monthly Income')\n",
    "\n",
    "plt.xlim(100, 100000)"
   ]
  },
  {
   "cell_type": "code",
   "execution_count": 64,
   "metadata": {},
   "outputs": [
    {
     "name": "stderr",
     "output_type": "stream",
     "text": [
      "C:\\ProgramData\\Anaconda3\\lib\\site-packages\\numpy\\lib\\histograms.py:824: RuntimeWarning: invalid value encountered in greater_equal\n",
      "  keep = (tmp_a >= first_edge)\n",
      "C:\\ProgramData\\Anaconda3\\lib\\site-packages\\numpy\\lib\\histograms.py:825: RuntimeWarning: invalid value encountered in less_equal\n",
      "  keep &= (tmp_a <= last_edge)\n"
     ]
    },
    {
     "data": {
      "text/plain": [
       "''"
      ]
     },
     "execution_count": 64,
     "metadata": {},
     "output_type": "execute_result"
    },
    {
     "data": {
      "image/png": "[encoded data removed]",
      "text/plain": [
       "<Figure size 432x288 with 1 Axes>"
      ]
     },
     "metadata": {
      "needs_background": "light"
     },
     "output_type": "display_data"
    }
   ],
   "source": [
    "plt.hist(data = df, x = 'DebtToIncomeRatio', bins = 100)\n",
    "plt.xlabel('Debt to income ratio')\n",
    "\n",
    ";"
   ]
  },
  {
   "cell_type": "code",
   "execution_count": 50,
   "metadata": {},
   "outputs": [
    {
     "data": {
      "text/html": [
       "<div>\n",
       "<style scoped>\n",
       "    .dataframe tbody tr th:only-of-type {\n",
       "        vertical-align: middle;\n",
       "    }\n",
       "\n",
       "    .dataframe tbody tr th {\n",
       "        vertical-align: top;\n",
       "    }\n",
       "\n",
       "    .dataframe thead th {\n",
       "        text-align: right;\n",
       "    }\n",
       "</style>\n",
       "<table border=\"1\" class=\"dataframe\">\n",
       "  <thead>\n",
       "    <tr style=\"text-align: right;\">\n",
       "      <th></th>\n",
       "      <th>ListingNumber</th>\n",
       "      <th>ListingCreationDate</th>\n",
       "      <th>CreditGrade</th>\n",
       "      <th>Term</th>\n",
       "      <th>LoanStatus</th>\n",
       "      <th>ClosedDate</th>\n",
       "      <th>BorrowerAPR</th>\n",
       "      <th>BorrowerRate</th>\n",
       "      <th>ProsperRating</th>\n",
       "      <th>ListingCategory</th>\n",
       "      <th>...</th>\n",
       "      <th>EmploymentStatus</th>\n",
       "      <th>IsBorrowerHomeowner</th>\n",
       "      <th>CreditScoreRangeLower</th>\n",
       "      <th>CreditScoreRangeUpper</th>\n",
       "      <th>CurrentCreditLines</th>\n",
       "      <th>AvailableBankcardCredit</th>\n",
       "      <th>DebtToIncomeRatio</th>\n",
       "      <th>StatedMonthlyIncome</th>\n",
       "      <th>LoanOriginalAmount</th>\n",
       "      <th>MonthlyLoanPayment</th>\n",
       "    </tr>\n",
       "  </thead>\n",
       "  <tbody>\n",
       "    <tr>\n",
       "      <th>225</th>\n",
       "      <td>104542</td>\n",
       "      <td>2007-02-28 10:45:44.153</td>\n",
       "      <td>D</td>\n",
       "      <td>36</td>\n",
       "      <td>Completed</td>\n",
       "      <td>2009-07-07 00:00:00</td>\n",
       "      <td>0.11749</td>\n",
       "      <td>0.1000</td>\n",
       "      <td>NaN</td>\n",
       "      <td>0</td>\n",
       "      <td>...</td>\n",
       "      <td>Full-time</td>\n",
       "      <td>True</td>\n",
       "      <td>600.0</td>\n",
       "      <td>619.0</td>\n",
       "      <td>30.0</td>\n",
       "      <td>49014.0</td>\n",
       "      <td>10.01</td>\n",
       "      <td>0.083333</td>\n",
       "      <td>1000</td>\n",
       "      <td>32.27</td>\n",
       "    </tr>\n",
       "    <tr>\n",
       "      <th>575</th>\n",
       "      <td>124494</td>\n",
       "      <td>2007-04-16 17:44:06.780</td>\n",
       "      <td>AA</td>\n",
       "      <td>36</td>\n",
       "      <td>Completed</td>\n",
       "      <td>2007-06-28 00:00:00</td>\n",
       "      <td>0.10505</td>\n",
       "      <td>0.0935</td>\n",
       "      <td>NaN</td>\n",
       "      <td>0</td>\n",
       "      <td>...</td>\n",
       "      <td>Retired</td>\n",
       "      <td>False</td>\n",
       "      <td>800.0</td>\n",
       "      <td>819.0</td>\n",
       "      <td>9.0</td>\n",
       "      <td>36908.0</td>\n",
       "      <td>10.01</td>\n",
       "      <td>0.083333</td>\n",
       "      <td>1500</td>\n",
       "      <td>47.94</td>\n",
       "    </tr>\n",
       "    <tr>\n",
       "      <th>625</th>\n",
       "      <td>560943</td>\n",
       "      <td>2012-02-20 16:08:45.633</td>\n",
       "      <td>NaN</td>\n",
       "      <td>36</td>\n",
       "      <td>Current</td>\n",
       "      <td>NaN</td>\n",
       "      <td>0.35797</td>\n",
       "      <td>0.3177</td>\n",
       "      <td>1.0</td>\n",
       "      <td>1</td>\n",
       "      <td>...</td>\n",
       "      <td>Employed</td>\n",
       "      <td>False</td>\n",
       "      <td>700.0</td>\n",
       "      <td>719.0</td>\n",
       "      <td>6.0</td>\n",
       "      <td>4955.0</td>\n",
       "      <td>10.01</td>\n",
       "      <td>3.833333</td>\n",
       "      <td>2000</td>\n",
       "      <td>86.85</td>\n",
       "    </tr>\n",
       "    <tr>\n",
       "      <th>1240</th>\n",
       "      <td>146341</td>\n",
       "      <td>2007-06-03 20:32:32.783</td>\n",
       "      <td>A</td>\n",
       "      <td>36</td>\n",
       "      <td>Completed</td>\n",
       "      <td>2010-05-25 00:00:00</td>\n",
       "      <td>0.11415</td>\n",
       "      <td>0.1072</td>\n",
       "      <td>NaN</td>\n",
       "      <td>0</td>\n",
       "      <td>...</td>\n",
       "      <td>Not employed</td>\n",
       "      <td>False</td>\n",
       "      <td>740.0</td>\n",
       "      <td>759.0</td>\n",
       "      <td>6.0</td>\n",
       "      <td>22118.0</td>\n",
       "      <td>10.01</td>\n",
       "      <td>0.083333</td>\n",
       "      <td>3000</td>\n",
       "      <td>97.82</td>\n",
       "    </tr>\n",
       "    <tr>\n",
       "      <th>1923</th>\n",
       "      <td>139992</td>\n",
       "      <td>2007-05-19 11:14:54.370</td>\n",
       "      <td>A</td>\n",
       "      <td>36</td>\n",
       "      <td>Defaulted</td>\n",
       "      <td>2010-09-29 00:00:00</td>\n",
       "      <td>0.08684</td>\n",
       "      <td>0.0800</td>\n",
       "      <td>NaN</td>\n",
       "      <td>0</td>\n",
       "      <td>...</td>\n",
       "      <td>Not employed</td>\n",
       "      <td>False</td>\n",
       "      <td>740.0</td>\n",
       "      <td>759.0</td>\n",
       "      <td>9.0</td>\n",
       "      <td>5882.0</td>\n",
       "      <td>10.01</td>\n",
       "      <td>0.083333</td>\n",
       "      <td>3000</td>\n",
       "      <td>68.56</td>\n",
       "    </tr>\n",
       "    <tr>\n",
       "      <th>...</th>\n",
       "      <td>...</td>\n",
       "      <td>...</td>\n",
       "      <td>...</td>\n",
       "      <td>...</td>\n",
       "      <td>...</td>\n",
       "      <td>...</td>\n",
       "      <td>...</td>\n",
       "      <td>...</td>\n",
       "      <td>...</td>\n",
       "      <td>...</td>\n",
       "      <td>...</td>\n",
       "      <td>...</td>\n",
       "      <td>...</td>\n",
       "      <td>...</td>\n",
       "      <td>...</td>\n",
       "      <td>...</td>\n",
       "      <td>...</td>\n",
       "      <td>...</td>\n",
       "      <td>...</td>\n",
       "      <td>...</td>\n",
       "      <td>...</td>\n",
       "    </tr>\n",
       "    <tr>\n",
       "      <th>111459</th>\n",
       "      <td>105214</td>\n",
       "      <td>2007-03-01 15:44:40.763</td>\n",
       "      <td>A</td>\n",
       "      <td>36</td>\n",
       "      <td>Completed</td>\n",
       "      <td>2008-09-24 00:00:00</td>\n",
       "      <td>0.16516</td>\n",
       "      <td>0.1580</td>\n",
       "      <td>NaN</td>\n",
       "      <td>0</td>\n",
       "      <td>...</td>\n",
       "      <td>Self-employed</td>\n",
       "      <td>True</td>\n",
       "      <td>720.0</td>\n",
       "      <td>739.0</td>\n",
       "      <td>4.0</td>\n",
       "      <td>1500.0</td>\n",
       "      <td>10.01</td>\n",
       "      <td>0.083333</td>\n",
       "      <td>6001</td>\n",
       "      <td>210.39</td>\n",
       "    </tr>\n",
       "    <tr>\n",
       "      <th>111859</th>\n",
       "      <td>266982</td>\n",
       "      <td>2008-01-17 10:03:22.690</td>\n",
       "      <td>D</td>\n",
       "      <td>36</td>\n",
       "      <td>Chargedoff</td>\n",
       "      <td>2009-09-24 00:00:00</td>\n",
       "      <td>0.25517</td>\n",
       "      <td>0.2400</td>\n",
       "      <td>NaN</td>\n",
       "      <td>3</td>\n",
       "      <td>...</td>\n",
       "      <td>Full-time</td>\n",
       "      <td>False</td>\n",
       "      <td>620.0</td>\n",
       "      <td>639.0</td>\n",
       "      <td>1.0</td>\n",
       "      <td>0.0</td>\n",
       "      <td>10.01</td>\n",
       "      <td>0.083333</td>\n",
       "      <td>2850</td>\n",
       "      <td>111.81</td>\n",
       "    </tr>\n",
       "    <tr>\n",
       "      <th>112240</th>\n",
       "      <td>844455</td>\n",
       "      <td>2013-07-19 08:39:08.107</td>\n",
       "      <td>NaN</td>\n",
       "      <td>36</td>\n",
       "      <td>Current</td>\n",
       "      <td>NaN</td>\n",
       "      <td>0.33286</td>\n",
       "      <td>0.2932</td>\n",
       "      <td>2.0</td>\n",
       "      <td>1</td>\n",
       "      <td>...</td>\n",
       "      <td>Employed</td>\n",
       "      <td>False</td>\n",
       "      <td>680.0</td>\n",
       "      <td>699.0</td>\n",
       "      <td>5.0</td>\n",
       "      <td>52.0</td>\n",
       "      <td>10.01</td>\n",
       "      <td>2.083333</td>\n",
       "      <td>2000</td>\n",
       "      <td>84.16</td>\n",
       "    </tr>\n",
       "    <tr>\n",
       "      <th>112396</th>\n",
       "      <td>627138</td>\n",
       "      <td>2012-08-21 13:57:58.080</td>\n",
       "      <td>NaN</td>\n",
       "      <td>60</td>\n",
       "      <td>Defaulted</td>\n",
       "      <td>2013-09-17 00:00:00</td>\n",
       "      <td>0.27554</td>\n",
       "      <td>0.2498</td>\n",
       "      <td>4.0</td>\n",
       "      <td>2</td>\n",
       "      <td>...</td>\n",
       "      <td>Employed</td>\n",
       "      <td>True</td>\n",
       "      <td>780.0</td>\n",
       "      <td>799.0</td>\n",
       "      <td>9.0</td>\n",
       "      <td>6124.0</td>\n",
       "      <td>10.01</td>\n",
       "      <td>2.916667</td>\n",
       "      <td>4000</td>\n",
       "      <td>117.36</td>\n",
       "    </tr>\n",
       "    <tr>\n",
       "      <th>112759</th>\n",
       "      <td>31681</td>\n",
       "      <td>2006-08-16 01:58:39.087</td>\n",
       "      <td>A</td>\n",
       "      <td>36</td>\n",
       "      <td>Completed</td>\n",
       "      <td>2009-07-21 00:00:00</td>\n",
       "      <td>0.17722</td>\n",
       "      <td>0.1700</td>\n",
       "      <td>NaN</td>\n",
       "      <td>0</td>\n",
       "      <td>...</td>\n",
       "      <td>NaN</td>\n",
       "      <td>False</td>\n",
       "      <td>720.0</td>\n",
       "      <td>739.0</td>\n",
       "      <td>NaN</td>\n",
       "      <td>NaN</td>\n",
       "      <td>10.01</td>\n",
       "      <td>0.083333</td>\n",
       "      <td>25000</td>\n",
       "      <td>891.32</td>\n",
       "    </tr>\n",
       "  </tbody>\n",
       "</table>\n",
       "<p>272 rows × 22 columns</p>\n",
       "</div>"
      ],
      "text/plain": [
       "        ListingNumber      ListingCreationDate CreditGrade  Term  LoanStatus  \\\n",
       "225            104542  2007-02-28 10:45:44.153           D    36   Completed   \n",
       "575            124494  2007-04-16 17:44:06.780          AA    36   Completed   \n",
       "625            560943  2012-02-20 16:08:45.633         NaN    36     Current   \n",
       "1240           146341  2007-06-03 20:32:32.783           A    36   Completed   \n",
       "1923           139992  2007-05-19 11:14:54.370           A    36   Defaulted   \n",
       "...               ...                      ...         ...   ...         ...   \n",
       "111459         105214  2007-03-01 15:44:40.763           A    36   Completed   \n",
       "111859         266982  2008-01-17 10:03:22.690           D    36  Chargedoff   \n",
       "112240         844455  2013-07-19 08:39:08.107         NaN    36     Current   \n",
       "112396         627138  2012-08-21 13:57:58.080         NaN    60   Defaulted   \n",
       "112759          31681  2006-08-16 01:58:39.087           A    36   Completed   \n",
       "\n",
       "                 ClosedDate  BorrowerAPR  BorrowerRate  ProsperRating  \\\n",
       "225     2009-07-07 00:00:00      0.11749        0.1000            NaN   \n",
       "575     2007-06-28 00:00:00      0.10505        0.0935            NaN   \n",
       "625                     NaN      0.35797        0.3177            1.0   \n",
       "1240    2010-05-25 00:00:00      0.11415        0.1072            NaN   \n",
       "1923    2010-09-29 00:00:00      0.08684        0.0800            NaN   \n",
       "...                     ...          ...           ...            ...   \n",
       "111459  2008-09-24 00:00:00      0.16516        0.1580            NaN   \n",
       "111859  2009-09-24 00:00:00      0.25517        0.2400            NaN   \n",
       "112240                  NaN      0.33286        0.2932            2.0   \n",
       "112396  2013-09-17 00:00:00      0.27554        0.2498            4.0   \n",
       "112759  2009-07-21 00:00:00      0.17722        0.1700            NaN   \n",
       "\n",
       "        ListingCategory  ... EmploymentStatus IsBorrowerHomeowner  \\\n",
       "225                   0  ...        Full-time                True   \n",
       "575                   0  ...          Retired               False   \n",
       "625                   1  ...         Employed               False   \n",
       "1240                  0  ...     Not employed               False   \n",
       "1923                  0  ...     Not employed               False   \n",
       "...                 ...  ...              ...                 ...   \n",
       "111459                0  ...    Self-employed                True   \n",
       "111859                3  ...        Full-time               False   \n",
       "112240                1  ...         Employed               False   \n",
       "112396                2  ...         Employed                True   \n",
       "112759                0  ...              NaN               False   \n",
       "\n",
       "       CreditScoreRangeLower  CreditScoreRangeUpper  CurrentCreditLines  \\\n",
       "225                    600.0                  619.0                30.0   \n",
       "575                    800.0                  819.0                 9.0   \n",
       "625                    700.0                  719.0                 6.0   \n",
       "1240                   740.0                  759.0                 6.0   \n",
       "1923                   740.0                  759.0                 9.0   \n",
       "...                      ...                    ...                 ...   \n",
       "111459                 720.0                  739.0                 4.0   \n",
       "111859                 620.0                  639.0                 1.0   \n",
       "112240                 680.0                  699.0                 5.0   \n",
       "112396                 780.0                  799.0                 9.0   \n",
       "112759                 720.0                  739.0                 NaN   \n",
       "\n",
       "        AvailableBankcardCredit  DebtToIncomeRatio  StatedMonthlyIncome  \\\n",
       "225                     49014.0              10.01             0.083333   \n",
       "575                     36908.0              10.01             0.083333   \n",
       "625                      4955.0              10.01             3.833333   \n",
       "1240                    22118.0              10.01             0.083333   \n",
       "1923                     5882.0              10.01             0.083333   \n",
       "...                         ...                ...                  ...   \n",
       "111459                   1500.0              10.01             0.083333   \n",
       "111859                      0.0              10.01             0.083333   \n",
       "112240                     52.0              10.01             2.083333   \n",
       "112396                   6124.0              10.01             2.916667   \n",
       "112759                      NaN              10.01             0.083333   \n",
       "\n",
       "        LoanOriginalAmount  MonthlyLoanPayment  \n",
       "225                   1000               32.27  \n",
       "575                   1500               47.94  \n",
       "625                   2000               86.85  \n",
       "1240                  3000               97.82  \n",
       "1923                  3000               68.56  \n",
       "...                    ...                 ...  \n",
       "111459                6001              210.39  \n",
       "111859                2850              111.81  \n",
       "112240                2000               84.16  \n",
       "112396                4000              117.36  \n",
       "112759               25000              891.32  \n",
       "\n",
       "[272 rows x 22 columns]"
      ]
     },
     "execution_count": 50,
     "metadata": {},
     "output_type": "execute_result"
    }
   ],
   "source": [
    "df[df.DebtToIncomeRatio>10]"
   ]
  },
  {
   "cell_type": "markdown",
   "metadata": {},
   "source": [
    "Some loans with >10 DebtToIncomeRatio are small loans for people who claim to have insubstantial income."
   ]
  },
  {
   "cell_type": "code",
   "execution_count": 59,
   "metadata": {},
   "outputs": [
    {
     "data": {
      "text/plain": [
       "0.0024056745617603878"
      ]
     },
     "execution_count": 59,
     "metadata": {},
     "output_type": "execute_result"
    }
   ],
   "source": [
    "df[df.DebtToIncomeRatio>10].shape[0]/df.shape[0]"
   ]
  },
  {
   "cell_type": "code",
   "execution_count": 60,
   "metadata": {},
   "outputs": [
    {
     "data": {
      "text/plain": [
       "0.004236463658394213"
      ]
     },
     "execution_count": 60,
     "metadata": {},
     "output_type": "execute_result"
    }
   ],
   "source": [
    "df[df.DebtToIncomeRatio>2].shape[0]/df.shape[0]"
   ]
  },
  {
   "cell_type": "code",
   "execution_count": 61,
   "metadata": {},
   "outputs": [
    {
     "data": {
      "text/plain": [
       "0.007057824633399961"
      ]
     },
     "execution_count": 61,
     "metadata": {},
     "output_type": "execute_result"
    }
   ],
   "source": [
    "df[df.DebtToIncomeRatio>1].shape[0]/df.shape[0]"
   ]
  },
  {
   "cell_type": "markdown",
   "metadata": {},
   "source": [
    "Debt to income ratio (DTI) is monthly debt payment divided by monthly income. According to [Investopedia](https://www.investopedia.com/ask/answers/081214/whats-considered-be-good-debttoincome-dti-ratio.asp 'Investopedia article on \"Good CTI ratio\"'), lenders prefer to see a debt-to-income ratio smaller than 36%.\n"
   ]
  },
  {
   "cell_type": "code",
   "execution_count": 65,
   "metadata": {},
   "outputs": [
    {
     "data": {
      "text/plain": [
       "''"
      ]
     },
     "execution_count": 65,
     "metadata": {},
     "output_type": "execute_result"
    },
    {
     "data": {
      "image/png": "[encoded data removed]",
      "text/plain": [
       "<Figure size 432x288 with 1 Axes>"
      ]
     },
     "metadata": {
      "needs_background": "light"
     },
     "output_type": "display_data"
    }
   ],
   "source": [
    "plt.hist(x = df['DebtToIncomeRatio'][df.DebtToIncomeRatio < 1.25], bins = 50)\n",
    "plt.xlabel('Debt to income ratio')\n",
    ";"
   ]
  },
  {
   "cell_type": "markdown",
   "metadata": {},
   "source": [
    "Most loan are lent to customer with debt-to-income-ratio < 0.8, and most commonly at ~0.2"
   ]
  },
  {
   "cell_type": "code",
   "execution_count": 66,
   "metadata": {},
   "outputs": [
    {
     "data": {
      "text/plain": [
       "''"
      ]
     },
     "execution_count": 66,
     "metadata": {},
     "output_type": "execute_result"
    },
    {
     "data": {
      "image/png": "[encoded data removed]",
      "text/plain": [
       "<Figure size 432x288 with 1 Axes>"
      ]
     },
     "metadata": {
      "needs_background": "light"
     },
     "output_type": "display_data"
    }
   ],
   "source": [
    "bin_e = 10**np.arange(-3, 0.21, 0.1)\n",
    "plt.hist(x = df['DebtToIncomeRatio'][df.DebtToIncomeRatio < 1.25], bins = bin_e)\n",
    "plt.xscale('log')\n",
    "plt.xlabel('Debt to income ratio')\n",
    "\n",
    ";"
   ]
  },
  {
   "cell_type": "markdown",
   "metadata": {},
   "source": [
    "> Make sure that, after every plot or related series of plots, that you\n",
    "include a Markdown cell with comments about what you observed, and what\n",
    "you plan on investigating next."
   ]
  },
  {
   "cell_type": "code",
   "execution_count": 116,
   "metadata": {},
   "outputs": [],
   "source": [
    "metrics2 = metrics[:-1].copy()"
   ]
  },
  {
   "cell_type": "code",
   "execution_count": 123,
   "metadata": {},
   "outputs": [
    {
     "data": {
      "text/plain": [
       "['LoanStatus',\n",
       " 'BorrowerRate',\n",
       " 'ListingCategory',\n",
       " 'LoanOriginalAmount',\n",
       " 'Term',\n",
       " 'MonthlyLoanPayment',\n",
       " 'StatedMonthlyIncome',\n",
       " 'DebtToIncomeRatio',\n",
       " 'CreditScoreRangeLower',\n",
       " 'IsBorrowerHomeowner']"
      ]
     },
     "execution_count": 123,
     "metadata": {},
     "output_type": "execute_result"
    }
   ],
   "source": [
    "metrics2.append('IsBorrowerHomeowner')\n",
    "metrics2"
   ]
  },
  {
   "cell_type": "code",
   "execution_count": 142,
   "metadata": {},
   "outputs": [
    {
     "data": {
      "text/html": [
       "<div>\n",
       "<style scoped>\n",
       "    .dataframe tbody tr th:only-of-type {\n",
       "        vertical-align: middle;\n",
       "    }\n",
       "\n",
       "    .dataframe tbody tr th {\n",
       "        vertical-align: top;\n",
       "    }\n",
       "\n",
       "    .dataframe thead th {\n",
       "        text-align: right;\n",
       "    }\n",
       "</style>\n",
       "<table border=\"1\" class=\"dataframe\">\n",
       "  <thead>\n",
       "    <tr style=\"text-align: right;\">\n",
       "      <th></th>\n",
       "      <th>BorrowerRate</th>\n",
       "      <th>ListingCategory</th>\n",
       "      <th>LoanOriginalAmount</th>\n",
       "      <th>Term</th>\n",
       "      <th>MonthlyLoanPayment</th>\n",
       "      <th>StatedMonthlyIncome</th>\n",
       "      <th>DebtToIncomeRatio</th>\n",
       "      <th>CreditScoreRangeLower</th>\n",
       "    </tr>\n",
       "  </thead>\n",
       "  <tbody>\n",
       "    <tr>\n",
       "      <th>count</th>\n",
       "      <td>103782.000000</td>\n",
       "      <td>103782.000000</td>\n",
       "      <td>103782.000000</td>\n",
       "      <td>103782.000000</td>\n",
       "      <td>103782.000000</td>\n",
       "      <td>103782.000000</td>\n",
       "      <td>103782.000000</td>\n",
       "      <td>103199.000000</td>\n",
       "    </tr>\n",
       "    <tr>\n",
       "      <th>mean</th>\n",
       "      <td>0.190461</td>\n",
       "      <td>2.728267</td>\n",
       "      <td>8436.498930</td>\n",
       "      <td>40.946291</td>\n",
       "      <td>274.104442</td>\n",
       "      <td>5686.473994</td>\n",
       "      <td>0.239399</td>\n",
       "      <td>684.827954</td>\n",
       "    </tr>\n",
       "    <tr>\n",
       "      <th>std</th>\n",
       "      <td>0.074110</td>\n",
       "      <td>4.001421</td>\n",
       "      <td>6327.125112</td>\n",
       "      <td>10.482672</td>\n",
       "      <td>194.206773</td>\n",
       "      <td>4945.156024</td>\n",
       "      <td>0.135369</td>\n",
       "      <td>65.388869</td>\n",
       "    </tr>\n",
       "    <tr>\n",
       "      <th>min</th>\n",
       "      <td>0.000000</td>\n",
       "      <td>0.000000</td>\n",
       "      <td>1000.000000</td>\n",
       "      <td>12.000000</td>\n",
       "      <td>0.000000</td>\n",
       "      <td>0.000000</td>\n",
       "      <td>0.000000</td>\n",
       "      <td>0.000000</td>\n",
       "    </tr>\n",
       "    <tr>\n",
       "      <th>25%</th>\n",
       "      <td>0.131400</td>\n",
       "      <td>1.000000</td>\n",
       "      <td>4000.000000</td>\n",
       "      <td>36.000000</td>\n",
       "      <td>131.215000</td>\n",
       "      <td>3333.333333</td>\n",
       "      <td>0.140000</td>\n",
       "      <td>660.000000</td>\n",
       "    </tr>\n",
       "    <tr>\n",
       "      <th>50%</th>\n",
       "      <td>0.180000</td>\n",
       "      <td>1.000000</td>\n",
       "      <td>6500.000000</td>\n",
       "      <td>36.000000</td>\n",
       "      <td>220.000000</td>\n",
       "      <td>4766.666667</td>\n",
       "      <td>0.220000</td>\n",
       "      <td>680.000000</td>\n",
       "    </tr>\n",
       "    <tr>\n",
       "      <th>75%</th>\n",
       "      <td>0.249200</td>\n",
       "      <td>3.000000</td>\n",
       "      <td>12000.000000</td>\n",
       "      <td>36.000000</td>\n",
       "      <td>372.710000</td>\n",
       "      <td>6916.666667</td>\n",
       "      <td>0.310000</td>\n",
       "      <td>720.000000</td>\n",
       "    </tr>\n",
       "    <tr>\n",
       "      <th>max</th>\n",
       "      <td>0.497500</td>\n",
       "      <td>20.000000</td>\n",
       "      <td>35000.000000</td>\n",
       "      <td>60.000000</td>\n",
       "      <td>2251.510000</td>\n",
       "      <td>483333.333333</td>\n",
       "      <td>0.990000</td>\n",
       "      <td>880.000000</td>\n",
       "    </tr>\n",
       "  </tbody>\n",
       "</table>\n",
       "</div>"
      ],
      "text/plain": [
       "        BorrowerRate  ListingCategory  LoanOriginalAmount           Term  \\\n",
       "count  103782.000000    103782.000000       103782.000000  103782.000000   \n",
       "mean        0.190461         2.728267         8436.498930      40.946291   \n",
       "std         0.074110         4.001421         6327.125112      10.482672   \n",
       "min         0.000000         0.000000         1000.000000      12.000000   \n",
       "25%         0.131400         1.000000         4000.000000      36.000000   \n",
       "50%         0.180000         1.000000         6500.000000      36.000000   \n",
       "75%         0.249200         3.000000        12000.000000      36.000000   \n",
       "max         0.497500        20.000000        35000.000000      60.000000   \n",
       "\n",
       "       MonthlyLoanPayment  StatedMonthlyIncome  DebtToIncomeRatio  \\\n",
       "count       103782.000000        103782.000000      103782.000000   \n",
       "mean           274.104442          5686.473994           0.239399   \n",
       "std            194.206773          4945.156024           0.135369   \n",
       "min              0.000000             0.000000           0.000000   \n",
       "25%            131.215000          3333.333333           0.140000   \n",
       "50%            220.000000          4766.666667           0.220000   \n",
       "75%            372.710000          6916.666667           0.310000   \n",
       "max           2251.510000        483333.333333           0.990000   \n",
       "\n",
       "       CreditScoreRangeLower  \n",
       "count          103199.000000  \n",
       "mean              684.827954  \n",
       "std                65.388869  \n",
       "min                 0.000000  \n",
       "25%               660.000000  \n",
       "50%               680.000000  \n",
       "75%               720.000000  \n",
       "max               880.000000  "
      ]
     },
     "execution_count": 142,
     "metadata": {},
     "output_type": "execute_result"
    }
   ],
   "source": [
    "df2.describe()"
   ]
  },
  {
   "cell_type": "code",
   "execution_count": 262,
   "metadata": {},
   "outputs": [],
   "source": [
    "df2 = df[df.DebtToIncomeRatio <1][metrics2]"
   ]
  },
  {
   "cell_type": "code",
   "execution_count": 171,
   "metadata": {},
   "outputs": [
    {
     "data": {
      "text/plain": [
       "Current                   51558\n",
       "Completed                 34975\n",
       "Chargedoff                10568\n",
       "Defaulted                  4657\n",
       "Past Due (1-15 days)        714\n",
       "Past Due (31-60 days)       323\n",
       "Past Due (91-120 days)      274\n",
       "Past Due (61-90 days)       268\n",
       "Past Due (16-30 days)       239\n",
       "FinalPaymentInProgress      187\n",
       "Past Due (>120 days)         14\n",
       "Cancelled                     5\n",
       "Name: LoanStatus, dtype: int64"
      ]
     },
     "execution_count": 171,
     "metadata": {},
     "output_type": "execute_result"
    }
   ],
   "source": [
    "df2.LoanStatus.value_counts()"
   ]
  },
  {
   "cell_type": "markdown",
   "metadata": {},
   "source": [
    "### Discuss the distribution(s) of your variable(s) of interest. Were there any unusual points? Did you need to perform any transformations?\n",
    "\n",
    "> \n",
    "\n",
    "### Of the features you investigated, were there any unusual distributions? Did you perform any operations on the data to tidy, adjust, or change the form of the data? If so, why did you do this?\n",
    "\n",
    "> 1.2% of loans claim to have monthly income < 1 cent. 0.7% of loans have DTI ratio > 1. "
   ]
  },
  {
   "cell_type": "markdown",
   "metadata": {},
   "source": [
    "## Bivariate Exploration\n",
    "\n",
    "Borrower rate ~ loan category, term, credit score(lower), is borrower homeowner\n",
    "Loan status\n",
    "\n",
    "\n",
    "> In this section, investigate relationships between pairs of variables in your\n",
    "data. Make sure the variables that you cover here have been introduced in some\n",
    "fashion in the previous section (univariate exploration)."
   ]
  },
  {
   "cell_type": "code",
   "execution_count": 362,
   "metadata": {},
   "outputs": [
    {
     "data": {
      "text/html": [
       "<div>\n",
       "<style scoped>\n",
       "    .dataframe tbody tr th:only-of-type {\n",
       "        vertical-align: middle;\n",
       "    }\n",
       "\n",
       "    .dataframe tbody tr th {\n",
       "        vertical-align: top;\n",
       "    }\n",
       "\n",
       "    .dataframe thead th {\n",
       "        text-align: right;\n",
       "    }\n",
       "</style>\n",
       "<table border=\"1\" class=\"dataframe\">\n",
       "  <thead>\n",
       "    <tr style=\"text-align: right;\">\n",
       "      <th></th>\n",
       "      <th>ListingNumber</th>\n",
       "      <th>Term</th>\n",
       "      <th>BorrowerAPR</th>\n",
       "      <th>BorrowerRate</th>\n",
       "      <th>ProsperRating</th>\n",
       "      <th>ListingCategory</th>\n",
       "      <th>IsBorrowerHomeowner</th>\n",
       "      <th>CreditScoreRangeLower</th>\n",
       "      <th>CreditScoreRangeUpper</th>\n",
       "      <th>CurrentCreditLines</th>\n",
       "      <th>AvailableBankcardCredit</th>\n",
       "      <th>DebtToIncomeRatio</th>\n",
       "      <th>StatedMonthlyIncome</th>\n",
       "      <th>LoanOriginalAmount</th>\n",
       "      <th>MonthlyLoanPayment</th>\n",
       "    </tr>\n",
       "  </thead>\n",
       "  <tbody>\n",
       "    <tr>\n",
       "      <th>ListingNumber</th>\n",
       "      <td>1.000000</td>\n",
       "      <td>0.320191</td>\n",
       "      <td>-0.029314</td>\n",
       "      <td>-0.112241</td>\n",
       "      <td>0.209065</td>\n",
       "      <td>0.128971</td>\n",
       "      <td>0.077888</td>\n",
       "      <td>0.270609</td>\n",
       "      <td>0.270609</td>\n",
       "      <td>0.144986</td>\n",
       "      <td>0.036837</td>\n",
       "      <td>-0.041875</td>\n",
       "      <td>0.076209</td>\n",
       "      <td>0.339750</td>\n",
       "      <td>0.276685</td>\n",
       "    </tr>\n",
       "    <tr>\n",
       "      <th>Term</th>\n",
       "      <td>0.320191</td>\n",
       "      <td>1.000000</td>\n",
       "      <td>-0.010810</td>\n",
       "      <td>0.020376</td>\n",
       "      <td>0.080679</td>\n",
       "      <td>0.005479</td>\n",
       "      <td>0.085354</td>\n",
       "      <td>0.126542</td>\n",
       "      <td>0.126542</td>\n",
       "      <td>0.076848</td>\n",
       "      <td>0.015552</td>\n",
       "      <td>-0.014776</td>\n",
       "      <td>0.028531</td>\n",
       "      <td>0.339283</td>\n",
       "      <td>0.091480</td>\n",
       "    </tr>\n",
       "    <tr>\n",
       "      <th>BorrowerAPR</th>\n",
       "      <td>-0.029314</td>\n",
       "      <td>-0.010810</td>\n",
       "      <td>1.000000</td>\n",
       "      <td>0.989817</td>\n",
       "      <td>-0.962202</td>\n",
       "      <td>0.132600</td>\n",
       "      <td>-0.132609</td>\n",
       "      <td>-0.429289</td>\n",
       "      <td>-0.429289</td>\n",
       "      <td>-0.093115</td>\n",
       "      <td>-0.349179</td>\n",
       "      <td>0.056200</td>\n",
       "      <td>-0.082058</td>\n",
       "      <td>-0.322323</td>\n",
       "      <td>-0.225951</td>\n",
       "    </tr>\n",
       "    <tr>\n",
       "      <th>BorrowerRate</th>\n",
       "      <td>-0.112241</td>\n",
       "      <td>0.020376</td>\n",
       "      <td>0.989817</td>\n",
       "      <td>1.000000</td>\n",
       "      <td>-0.953102</td>\n",
       "      <td>0.102852</td>\n",
       "      <td>-0.134316</td>\n",
       "      <td>-0.461342</td>\n",
       "      <td>-0.461342</td>\n",
       "      <td>-0.097062</td>\n",
       "      <td>-0.344172</td>\n",
       "      <td>0.062807</td>\n",
       "      <td>-0.088722</td>\n",
       "      <td>-0.328339</td>\n",
       "      <td>-0.243964</td>\n",
       "    </tr>\n",
       "    <tr>\n",
       "      <th>ProsperRating</th>\n",
       "      <td>0.209065</td>\n",
       "      <td>0.080679</td>\n",
       "      <td>-0.962202</td>\n",
       "      <td>-0.953102</td>\n",
       "      <td>1.000000</td>\n",
       "      <td>-0.094242</td>\n",
       "      <td>0.136271</td>\n",
       "      <td>0.549401</td>\n",
       "      <td>0.549401</td>\n",
       "      <td>0.092155</td>\n",
       "      <td>0.375025</td>\n",
       "      <td>-0.135336</td>\n",
       "      <td>0.094116</td>\n",
       "      <td>0.429202</td>\n",
       "      <td>0.329405</td>\n",
       "    </tr>\n",
       "    <tr>\n",
       "      <th>ListingCategory</th>\n",
       "      <td>0.128971</td>\n",
       "      <td>0.005479</td>\n",
       "      <td>0.132600</td>\n",
       "      <td>0.102852</td>\n",
       "      <td>-0.094242</td>\n",
       "      <td>1.000000</td>\n",
       "      <td>-0.037918</td>\n",
       "      <td>0.102843</td>\n",
       "      <td>0.102843</td>\n",
       "      <td>-0.104877</td>\n",
       "      <td>-0.031467</td>\n",
       "      <td>-0.042726</td>\n",
       "      <td>0.001372</td>\n",
       "      <td>-0.127143</td>\n",
       "      <td>-0.118236</td>\n",
       "    </tr>\n",
       "    <tr>\n",
       "      <th>IsBorrowerHomeowner</th>\n",
       "      <td>0.077888</td>\n",
       "      <td>0.085354</td>\n",
       "      <td>-0.132609</td>\n",
       "      <td>-0.134316</td>\n",
       "      <td>0.136271</td>\n",
       "      <td>-0.037918</td>\n",
       "      <td>1.000000</td>\n",
       "      <td>0.294119</td>\n",
       "      <td>0.294119</td>\n",
       "      <td>0.278930</td>\n",
       "      <td>0.142155</td>\n",
       "      <td>0.000134</td>\n",
       "      <td>0.140131</td>\n",
       "      <td>0.206859</td>\n",
       "      <td>0.179851</td>\n",
       "    </tr>\n",
       "    <tr>\n",
       "      <th>CreditScoreRangeLower</th>\n",
       "      <td>0.270609</td>\n",
       "      <td>0.126542</td>\n",
       "      <td>-0.429289</td>\n",
       "      <td>-0.461342</td>\n",
       "      <td>0.549401</td>\n",
       "      <td>0.102843</td>\n",
       "      <td>0.294119</td>\n",
       "      <td>1.000000</td>\n",
       "      <td>1.000000</td>\n",
       "      <td>0.141847</td>\n",
       "      <td>0.453301</td>\n",
       "      <td>-0.013312</td>\n",
       "      <td>0.107969</td>\n",
       "      <td>0.341488</td>\n",
       "      <td>0.293082</td>\n",
       "    </tr>\n",
       "    <tr>\n",
       "      <th>CreditScoreRangeUpper</th>\n",
       "      <td>0.270609</td>\n",
       "      <td>0.126542</td>\n",
       "      <td>-0.429289</td>\n",
       "      <td>-0.461342</td>\n",
       "      <td>0.549401</td>\n",
       "      <td>0.102843</td>\n",
       "      <td>0.294119</td>\n",
       "      <td>1.000000</td>\n",
       "      <td>1.000000</td>\n",
       "      <td>0.141847</td>\n",
       "      <td>0.453301</td>\n",
       "      <td>-0.013312</td>\n",
       "      <td>0.107969</td>\n",
       "      <td>0.341488</td>\n",
       "      <td>0.293082</td>\n",
       "    </tr>\n",
       "    <tr>\n",
       "      <th>CurrentCreditLines</th>\n",
       "      <td>0.144986</td>\n",
       "      <td>0.076848</td>\n",
       "      <td>-0.093115</td>\n",
       "      <td>-0.097062</td>\n",
       "      <td>0.092155</td>\n",
       "      <td>-0.104877</td>\n",
       "      <td>0.278930</td>\n",
       "      <td>0.141847</td>\n",
       "      <td>0.141847</td>\n",
       "      <td>1.000000</td>\n",
       "      <td>0.317422</td>\n",
       "      <td>0.091685</td>\n",
       "      <td>0.143161</td>\n",
       "      <td>0.200852</td>\n",
       "      <td>0.186466</td>\n",
       "    </tr>\n",
       "    <tr>\n",
       "      <th>AvailableBankcardCredit</th>\n",
       "      <td>0.036837</td>\n",
       "      <td>0.015552</td>\n",
       "      <td>-0.349179</td>\n",
       "      <td>-0.344172</td>\n",
       "      <td>0.375025</td>\n",
       "      <td>-0.031467</td>\n",
       "      <td>0.142155</td>\n",
       "      <td>0.453301</td>\n",
       "      <td>0.453301</td>\n",
       "      <td>0.317422</td>\n",
       "      <td>1.000000</td>\n",
       "      <td>0.001887</td>\n",
       "      <td>0.111871</td>\n",
       "      <td>0.229751</td>\n",
       "      <td>0.195922</td>\n",
       "    </tr>\n",
       "    <tr>\n",
       "      <th>DebtToIncomeRatio</th>\n",
       "      <td>-0.041875</td>\n",
       "      <td>-0.014776</td>\n",
       "      <td>0.056200</td>\n",
       "      <td>0.062807</td>\n",
       "      <td>-0.135336</td>\n",
       "      <td>-0.042726</td>\n",
       "      <td>0.000134</td>\n",
       "      <td>-0.013312</td>\n",
       "      <td>-0.013312</td>\n",
       "      <td>0.091685</td>\n",
       "      <td>0.001887</td>\n",
       "      <td>1.000000</td>\n",
       "      <td>-0.122573</td>\n",
       "      <td>0.010265</td>\n",
       "      <td>0.027756</td>\n",
       "    </tr>\n",
       "    <tr>\n",
       "      <th>StatedMonthlyIncome</th>\n",
       "      <td>0.076209</td>\n",
       "      <td>0.028531</td>\n",
       "      <td>-0.082058</td>\n",
       "      <td>-0.088722</td>\n",
       "      <td>0.094116</td>\n",
       "      <td>0.001372</td>\n",
       "      <td>0.140131</td>\n",
       "      <td>0.107969</td>\n",
       "      <td>0.107969</td>\n",
       "      <td>0.143161</td>\n",
       "      <td>0.111871</td>\n",
       "      <td>-0.122573</td>\n",
       "      <td>1.000000</td>\n",
       "      <td>0.200627</td>\n",
       "      <td>0.196160</td>\n",
       "    </tr>\n",
       "    <tr>\n",
       "      <th>LoanOriginalAmount</th>\n",
       "      <td>0.339750</td>\n",
       "      <td>0.339283</td>\n",
       "      <td>-0.322323</td>\n",
       "      <td>-0.328339</td>\n",
       "      <td>0.429202</td>\n",
       "      <td>-0.127143</td>\n",
       "      <td>0.206859</td>\n",
       "      <td>0.341488</td>\n",
       "      <td>0.341488</td>\n",
       "      <td>0.200852</td>\n",
       "      <td>0.229751</td>\n",
       "      <td>0.010265</td>\n",
       "      <td>0.200627</td>\n",
       "      <td>1.000000</td>\n",
       "      <td>0.931856</td>\n",
       "    </tr>\n",
       "    <tr>\n",
       "      <th>MonthlyLoanPayment</th>\n",
       "      <td>0.276685</td>\n",
       "      <td>0.091480</td>\n",
       "      <td>-0.225951</td>\n",
       "      <td>-0.243964</td>\n",
       "      <td>0.329405</td>\n",
       "      <td>-0.118236</td>\n",
       "      <td>0.179851</td>\n",
       "      <td>0.293082</td>\n",
       "      <td>0.293082</td>\n",
       "      <td>0.186466</td>\n",
       "      <td>0.195922</td>\n",
       "      <td>0.027756</td>\n",
       "      <td>0.196160</td>\n",
       "      <td>0.931856</td>\n",
       "      <td>1.000000</td>\n",
       "    </tr>\n",
       "  </tbody>\n",
       "</table>\n",
       "</div>"
      ],
      "text/plain": [
       "                         ListingNumber      Term  BorrowerAPR  BorrowerRate  \\\n",
       "ListingNumber                 1.000000  0.320191    -0.029314     -0.112241   \n",
       "Term                          0.320191  1.000000    -0.010810      0.020376   \n",
       "BorrowerAPR                  -0.029314 -0.010810     1.000000      0.989817   \n",
       "BorrowerRate                 -0.112241  0.020376     0.989817      1.000000   \n",
       "ProsperRating                 0.209065  0.080679    -0.962202     -0.953102   \n",
       "ListingCategory               0.128971  0.005479     0.132600      0.102852   \n",
       "IsBorrowerHomeowner           0.077888  0.085354    -0.132609     -0.134316   \n",
       "CreditScoreRangeLower         0.270609  0.126542    -0.429289     -0.461342   \n",
       "CreditScoreRangeUpper         0.270609  0.126542    -0.429289     -0.461342   \n",
       "CurrentCreditLines            0.144986  0.076848    -0.093115     -0.097062   \n",
       "AvailableBankcardCredit       0.036837  0.015552    -0.349179     -0.344172   \n",
       "DebtToIncomeRatio            -0.041875 -0.014776     0.056200      0.062807   \n",
       "StatedMonthlyIncome           0.076209  0.028531    -0.082058     -0.088722   \n",
       "LoanOriginalAmount            0.339750  0.339283    -0.322323     -0.328339   \n",
       "MonthlyLoanPayment            0.276685  0.091480    -0.225951     -0.243964   \n",
       "\n",
       "                         ProsperRating  ListingCategory  IsBorrowerHomeowner  \\\n",
       "ListingNumber                 0.209065         0.128971             0.077888   \n",
       "Term                          0.080679         0.005479             0.085354   \n",
       "BorrowerAPR                  -0.962202         0.132600            -0.132609   \n",
       "BorrowerRate                 -0.953102         0.102852            -0.134316   \n",
       "ProsperRating                 1.000000        -0.094242             0.136271   \n",
       "ListingCategory              -0.094242         1.000000            -0.037918   \n",
       "IsBorrowerHomeowner           0.136271        -0.037918             1.000000   \n",
       "CreditScoreRangeLower         0.549401         0.102843             0.294119   \n",
       "CreditScoreRangeUpper         0.549401         0.102843             0.294119   \n",
       "CurrentCreditLines            0.092155        -0.104877             0.278930   \n",
       "AvailableBankcardCredit       0.375025        -0.031467             0.142155   \n",
       "DebtToIncomeRatio            -0.135336        -0.042726             0.000134   \n",
       "StatedMonthlyIncome           0.094116         0.001372             0.140131   \n",
       "LoanOriginalAmount            0.429202        -0.127143             0.206859   \n",
       "MonthlyLoanPayment            0.329405        -0.118236             0.179851   \n",
       "\n",
       "                         CreditScoreRangeLower  CreditScoreRangeUpper  \\\n",
       "ListingNumber                         0.270609               0.270609   \n",
       "Term                                  0.126542               0.126542   \n",
       "BorrowerAPR                          -0.429289              -0.429289   \n",
       "BorrowerRate                         -0.461342              -0.461342   \n",
       "ProsperRating                         0.549401               0.549401   \n",
       "ListingCategory                       0.102843               0.102843   \n",
       "IsBorrowerHomeowner                   0.294119               0.294119   \n",
       "CreditScoreRangeLower                 1.000000               1.000000   \n",
       "CreditScoreRangeUpper                 1.000000               1.000000   \n",
       "CurrentCreditLines                    0.141847               0.141847   \n",
       "AvailableBankcardCredit               0.453301               0.453301   \n",
       "DebtToIncomeRatio                    -0.013312              -0.013312   \n",
       "StatedMonthlyIncome                   0.107969               0.107969   \n",
       "LoanOriginalAmount                    0.341488               0.341488   \n",
       "MonthlyLoanPayment                    0.293082               0.293082   \n",
       "\n",
       "                         CurrentCreditLines  AvailableBankcardCredit  \\\n",
       "ListingNumber                      0.144986                 0.036837   \n",
       "Term                               0.076848                 0.015552   \n",
       "BorrowerAPR                       -0.093115                -0.349179   \n",
       "BorrowerRate                      -0.097062                -0.344172   \n",
       "ProsperRating                      0.092155                 0.375025   \n",
       "ListingCategory                   -0.104877                -0.031467   \n",
       "IsBorrowerHomeowner                0.278930                 0.142155   \n",
       "CreditScoreRangeLower              0.141847                 0.453301   \n",
       "CreditScoreRangeUpper              0.141847                 0.453301   \n",
       "CurrentCreditLines                 1.000000                 0.317422   \n",
       "AvailableBankcardCredit            0.317422                 1.000000   \n",
       "DebtToIncomeRatio                  0.091685                 0.001887   \n",
       "StatedMonthlyIncome                0.143161                 0.111871   \n",
       "LoanOriginalAmount                 0.200852                 0.229751   \n",
       "MonthlyLoanPayment                 0.186466                 0.195922   \n",
       "\n",
       "                         DebtToIncomeRatio  StatedMonthlyIncome  \\\n",
       "ListingNumber                    -0.041875             0.076209   \n",
       "Term                             -0.014776             0.028531   \n",
       "BorrowerAPR                       0.056200            -0.082058   \n",
       "BorrowerRate                      0.062807            -0.088722   \n",
       "ProsperRating                    -0.135336             0.094116   \n",
       "ListingCategory                  -0.042726             0.001372   \n",
       "IsBorrowerHomeowner               0.000134             0.140131   \n",
       "CreditScoreRangeLower            -0.013312             0.107969   \n",
       "CreditScoreRangeUpper            -0.013312             0.107969   \n",
       "CurrentCreditLines                0.091685             0.143161   \n",
       "AvailableBankcardCredit           0.001887             0.111871   \n",
       "DebtToIncomeRatio                 1.000000            -0.122573   \n",
       "StatedMonthlyIncome              -0.122573             1.000000   \n",
       "LoanOriginalAmount                0.010265             0.200627   \n",
       "MonthlyLoanPayment                0.027756             0.196160   \n",
       "\n",
       "                         LoanOriginalAmount  MonthlyLoanPayment  \n",
       "ListingNumber                      0.339750            0.276685  \n",
       "Term                               0.339283            0.091480  \n",
       "BorrowerAPR                       -0.322323           -0.225951  \n",
       "BorrowerRate                      -0.328339           -0.243964  \n",
       "ProsperRating                      0.429202            0.329405  \n",
       "ListingCategory                   -0.127143           -0.118236  \n",
       "IsBorrowerHomeowner                0.206859            0.179851  \n",
       "CreditScoreRangeLower              0.341488            0.293082  \n",
       "CreditScoreRangeUpper              0.341488            0.293082  \n",
       "CurrentCreditLines                 0.200852            0.186466  \n",
       "AvailableBankcardCredit            0.229751            0.195922  \n",
       "DebtToIncomeRatio                  0.010265            0.027756  \n",
       "StatedMonthlyIncome                0.200627            0.196160  \n",
       "LoanOriginalAmount                 1.000000            0.931856  \n",
       "MonthlyLoanPayment                 0.931856            1.000000  "
      ]
     },
     "execution_count": 362,
     "metadata": {},
     "output_type": "execute_result"
    }
   ],
   "source": [
    "df2_corr =df2.corr()\n",
    "df2_corr"
   ]
  },
  {
   "cell_type": "code",
   "execution_count": 366,
   "metadata": {},
   "outputs": [
    {
     "ename": "AttributeError",
     "evalue": "'function' object has no attribute 'info'",
     "output_type": "error",
     "traceback": [
      "\u001b[1;31m---------------------------------------------------------------------------\u001b[0m",
      "\u001b[1;31mAttributeError\u001b[0m                            Traceback (most recent call last)",
      "\u001b[1;32m<ipython-input-366-0a942d217de7>\u001b[0m in \u001b[0;36m<module>\u001b[1;34m\u001b[0m\n\u001b[1;32m----> 1\u001b[1;33m \u001b[0mdf2\u001b[0m\u001b[1;33m.\u001b[0m\u001b[0mcorr\u001b[0m\u001b[1;33m.\u001b[0m\u001b[0minfo\u001b[0m\u001b[1;33m(\u001b[0m\u001b[1;33m)\u001b[0m\u001b[1;33m\u001b[0m\u001b[1;33m\u001b[0m\u001b[0m\n\u001b[0m",
      "\u001b[1;31mAttributeError\u001b[0m: 'function' object has no attribute 'info'"
     ]
    }
   ],
   "source": []
  },
  {
   "cell_type": "code",
   "execution_count": 367,
   "metadata": {},
   "outputs": [
    {
     "data": {
      "text/plain": [
       "<matplotlib.axes._subplots.AxesSubplot at 0x2bd02dcb808>"
      ]
     },
     "execution_count": 367,
     "metadata": {},
     "output_type": "execute_result"
    },
    {
     "data": {
      "image/png": "[encoded data removed]",
      "text/plain": [
       "<Figure size 432x288 with 2 Axes>"
      ]
     },
     "metadata": {
      "needs_background": "light"
     },
     "output_type": "display_data"
    }
   ],
   "source": [
    "sb.heatmap(data = df2_corr, cmap = 'vlag_r')\n",
    "; #term~loanAmount, credit score lower ~ upper, "
   ]
  },
  {
   "cell_type": "code",
   "execution_count": 163,
   "metadata": {},
   "outputs": [
    {
     "name": "stdout",
     "output_type": "stream",
     "text": [
      "<class 'pandas.core.frame.DataFrame'>\n",
      "Int64Index: 103782 entries, 0 to 113065\n",
      "Data columns (total 10 columns):\n",
      "LoanStatus               103782 non-null object\n",
      "BorrowerRate             103782 non-null float64\n",
      "ListingCategory          103782 non-null int64\n",
      "LoanOriginalAmount       103782 non-null int64\n",
      "Term                     103782 non-null int64\n",
      "MonthlyLoanPayment       103782 non-null float64\n",
      "StatedMonthlyIncome      103782 non-null float64\n",
      "DebtToIncomeRatio        103782 non-null float64\n",
      "CreditScoreRangeLower    103199 non-null float64\n",
      "IsBorrowerHomeowner      103782 non-null bool\n",
      "dtypes: bool(1), float64(5), int64(3), object(1)\n",
      "memory usage: 13.0+ MB\n"
     ]
    }
   ],
   "source": [
    "df2.info()"
   ]
  },
  {
   "cell_type": "markdown",
   "metadata": {},
   "source": [
    "### Borrower rate vs. other variables:"
   ]
  },
  {
   "cell_type": "code",
   "execution_count": 165,
   "metadata": {},
   "outputs": [
    {
     "data": {
      "image/png": "[encoded data removed]",
      "text/plain": [
       "<Figure size 1080x1080 with 8 Axes>"
      ]
     },
     "metadata": {
      "needs_background": "light"
     },
     "output_type": "display_data"
    }
   ],
   "source": [
    "\n",
    "plt.figure(figsize = [15, 15])\n",
    "i=0\n",
    "#numeric features:\n",
    "for m in ['LoanOriginalAmount','MonthlyLoanPayment',\n",
    "          'DebtToIncomeRatio','CreditScoreRangeLower','StatedMonthlyIncome' ]:\n",
    "    i+=1\n",
    "    plt.subplot(3,3,i)\n",
    "    plt.scatter(data = df2, y = 'BorrowerRate', x =m, s = 5, alpha =0.3 )\n",
    "    plt.xlabel(m)\n",
    "    plt.ylabel('Borrower Rate')\n",
    "    \n",
    "\n",
    "#Categorical features\n",
    "for m in ['ListingCategory', 'Term', 'IsBorrowerHomeowner']:\n",
    "    i+=1\n",
    "    plt.subplot(3,3,i)\n",
    "    sb.violinplot(data = df2, y = 'BorrowerRate', x =m , inner = 'quartile')\n",
    "    \n",
    "    "
   ]
  },
  {
   "cell_type": "markdown",
   "metadata": {},
   "source": [
    "There are correlations between borrower rate and term or homeownershop. Lower term duration is associated with lower rate, home owners have lower rate, as well.\n",
    "With scatter plot, it's harder to see borrowing rate's correlation to 'LoanOriginalAmount','MonthlyLoanPayment', 'DebtToIncomeRatio','CreditScoreRangeLower', due to large amounts of data points. change them to hist2d."
   ]
  },
  {
   "cell_type": "code",
   "execution_count": 160,
   "metadata": {},
   "outputs": [
    {
     "data": {
      "text/plain": [
       "''"
      ]
     },
     "execution_count": 160,
     "metadata": {},
     "output_type": "execute_result"
    },
    {
     "data": {
      "image/png": "[encoded data removed]",
      "text/plain": [
       "<Figure size 432x288 with 2 Axes>"
      ]
     },
     "metadata": {
      "needs_background": "light"
     },
     "output_type": "display_data"
    }
   ],
   "source": [
    "#plot rate ~ income with log scale on income\n",
    "xt = 10**np.arange(2.5, 5.51, 0.1) #monthly income 300 ~ 300,000\n",
    "yt = np.arange(0, 0.51, 0.01)\n",
    "plt.hist2d(data = df2, y = 'BorrowerRate', x ='StatedMonthlyIncome', bins = [xt, yt], cmap = 'viridis_r', cmin = 0.5)\n",
    "plt.xscale('log')\n",
    "plt.xlabel('StatedMonthlyIncome')\n",
    "plt.colorbar()\n",
    "plt.ylabel('Borrower Rate')\n",
    ";\n"
   ]
  },
  {
   "cell_type": "markdown",
   "metadata": {},
   "source": [
    "Put all the plots together:"
   ]
  },
  {
   "cell_type": "code",
   "execution_count": 169,
   "metadata": {},
   "outputs": [
    {
     "data": {
      "image/png": "[encoded data removed]",
      "text/plain": [
       "<Figure size 1080x1440 with 6 Axes>"
      ]
     },
     "metadata": {
      "needs_background": "light"
     },
     "output_type": "display_data"
    }
   ],
   "source": [
    "plt.figure(figsize = [15, 20])\n",
    "i=0\n",
    "#numeric features:\n",
    "for m in ['LoanOriginalAmount','MonthlyLoanPayment',\n",
    "          'DebtToIncomeRatio']:\n",
    "    i+=1\n",
    "    plt.subplot(3,2,i)\n",
    "    plt.hist2d(data = df2, y = 'BorrowerRate', x =m, cmap = 'viridis_r', cmin = 0.5 , bins = 30)\n",
    "    plt.xlabel(m)\n",
    "    plt.ylabel('Borrower Rate')\n",
    "\n",
    "i+=1\n",
    "plt.subplot(3,2,i)\n",
    "xt = 10**np.arange(2.5, 5.51, 0.1) #monthly income 300 ~ 300,000\n",
    "yt = np.arange(0, 0.51, 0.01)\n",
    "plt.hist2d(data = df2, y = 'BorrowerRate', x ='StatedMonthlyIncome', bins = [xt, yt], cmap = 'viridis_r', cmin = 0.5)\n",
    "plt.xscale('log')\n",
    "plt.xlabel('StatedMonthlyIncome')\n",
    "plt.ylabel('Borrower Rate')\n",
    ";\n",
    "\n",
    "#Categorical features\n",
    "for m in ['Term', 'IsBorrowerHomeowner']:\n",
    "    i+=1\n",
    "    plt.subplot(3,2,i)\n",
    "    sb.violinplot(data = df2, y = 'BorrowerRate', x =m , inner = 'quartile')\n"
   ]
  },
  {
   "cell_type": "code",
   "execution_count": 178,
   "metadata": {},
   "outputs": [],
   "source": [
    "df2_cs = df2[df2.CreditScoreRangeLower.isna()==False]"
   ]
  },
  {
   "cell_type": "code",
   "execution_count": 181,
   "metadata": {},
   "outputs": [
    {
     "data": {
      "text/plain": [
       "Text(0, 0.5, 'Borrower Rate')"
      ]
     },
     "execution_count": 181,
     "metadata": {},
     "output_type": "execute_result"
    },
    {
     "data": {
      "image/png": "[encoded data removed]",
      "text/plain": [
       "<Figure size 432x288 with 1 Axes>"
      ]
     },
     "metadata": {
      "needs_background": "light"
     },
     "output_type": "display_data"
    }
   ],
   "source": [
    "plt.hist2d(data = df2_cs, y = 'BorrowerRate', x ='CreditScoreRangeLower', bins = 30, cmap = 'viridis_r', cmin = 0.5)\n",
    "plt.xlabel('CreditScoreRangeLower')\n",
    "plt.ylabel('Borrower Rate')\n",
    ";"
   ]
  },
  {
   "cell_type": "markdown",
   "metadata": {},
   "source": [
    "It is now clearly visible that borrowing rate is inversely correlated with loan amount and credit score, but positively correlated with debt DTI ratio."
   ]
  },
  {
   "cell_type": "code",
   "execution_count": 170,
   "metadata": {},
   "outputs": [
    {
     "data": {
      "text/plain": [
       "str"
      ]
     },
     "execution_count": 170,
     "metadata": {},
     "output_type": "execute_result"
    }
   ],
   "source": [
    "type(df2.LoanStatus[1])"
   ]
  },
  {
   "cell_type": "code",
   "execution_count": 182,
   "metadata": {},
   "outputs": [
    {
     "data": {
      "text/plain": [
       "Current                   51558\n",
       "Completed                 34975\n",
       "Chargedoff                10568\n",
       "Defaulted                  4657\n",
       "Past Due (1-15 days)        714\n",
       "Past Due (31-60 days)       323\n",
       "Past Due (91-120 days)      274\n",
       "Past Due (61-90 days)       268\n",
       "Past Due (16-30 days)       239\n",
       "FinalPaymentInProgress      187\n",
       "Past Due (>120 days)         14\n",
       "Cancelled                     5\n",
       "Name: LoanStatus, dtype: int64"
      ]
     },
     "execution_count": 182,
     "metadata": {},
     "output_type": "execute_result"
    }
   ],
   "source": [
    "df2.LoanStatus.value_counts()"
   ]
  },
  {
   "cell_type": "markdown",
   "metadata": {},
   "source": [
    "### Loan status vs. other variables"
   ]
  },
  {
   "cell_type": "code",
   "execution_count": 263,
   "metadata": {},
   "outputs": [],
   "source": [
    "df2 = pd.read_csv('selectLoanData.csv')"
   ]
  },
  {
   "cell_type": "code",
   "execution_count": 264,
   "metadata": {},
   "outputs": [
    {
     "data": {
      "text/plain": [
       "(113066, 22)"
      ]
     },
     "execution_count": 264,
     "metadata": {},
     "output_type": "execute_result"
    }
   ],
   "source": [
    "df2.shape"
   ]
  },
  {
   "cell_type": "code",
   "execution_count": 268,
   "metadata": {},
   "outputs": [],
   "source": [
    "metrics3 = ['LoanStatus', 'BorrowerRate','ListingCategory','LoanOriginalAmount','Term','MonthlyLoanPayment',\n",
    " 'StatedMonthlyIncome','DebtToIncomeRatio','CreditScoreRangeLower','IsBorrowerHomeowner']"
   ]
  },
  {
   "cell_type": "code",
   "execution_count": 269,
   "metadata": {},
   "outputs": [],
   "source": [
    "df3 = df2[ metrics3]"
   ]
  },
  {
   "cell_type": "code",
   "execution_count": 292,
   "metadata": {},
   "outputs": [
    {
     "name": "stdout",
     "output_type": "stream",
     "text": [
      "<class 'pandas.core.frame.DataFrame'>\n",
      "RangeIndex: 113066 entries, 0 to 113065\n",
      "Data columns (total 11 columns):\n",
      "LoanStatus               113066 non-null object\n",
      "BorrowerRate             113066 non-null float64\n",
      "ListingCategory          113066 non-null int64\n",
      "LoanOriginalAmount       113066 non-null int64\n",
      "Term                     113066 non-null int64\n",
      "MonthlyLoanPayment       113066 non-null float64\n",
      "StatedMonthlyIncome      113066 non-null float64\n",
      "DebtToIncomeRatio        104594 non-null float64\n",
      "CreditScoreRangeLower    112475 non-null float64\n",
      "IsBorrowerHomeowner      113066 non-null bool\n",
      "LoanS                    113061 non-null category\n",
      "dtypes: bool(1), category(1), float64(5), int64(3), object(1)\n",
      "memory usage: 8.0+ MB\n"
     ]
    }
   ],
   "source": [
    "df3.info()"
   ]
  },
  {
   "cell_type": "code",
   "execution_count": 289,
   "metadata": {},
   "outputs": [],
   "source": [
    "df3.to_csv('LoanDatav3.csv')"
   ]
  },
  {
   "cell_type": "code",
   "execution_count": null,
   "metadata": {},
   "outputs": [],
   "source": [
    "df3['LoanS'] = df3.LoanStatus"
   ]
  },
  {
   "cell_type": "code",
   "execution_count": 287,
   "metadata": {},
   "outputs": [
    {
     "ename": "TypeError",
     "evalue": "map() must have at least two arguments.",
     "output_type": "error",
     "traceback": [
      "\u001b[1;31m---------------------------------------------------------------------------\u001b[0m",
      "\u001b[1;31mTypeError\u001b[0m                                 Traceback (most recent call last)",
      "\u001b[1;32m<ipython-input-287-ed0cfc9bd3ae>\u001b[0m in \u001b[0;36m<module>\u001b[1;34m\u001b[0m\n\u001b[0;32m      2\u001b[0m df3['LoanS'] = df3.LoanStatus.apply(map({'Current':'Current', 'Completed':'Completed', 'FinalPaymentInProgress':'Completed','Chargedoff':'Failed', 'Defaulted':'Failed',\n\u001b[0;32m      3\u001b[0m                                 \u001b[1;34m'Past Due (1-15 days)'\u001b[0m\u001b[1;33m:\u001b[0m\u001b[1;34m'PastDue'\u001b[0m\u001b[1;33m,\u001b[0m \u001b[1;34m'Past Due (31-60 days)'\u001b[0m\u001b[1;33m:\u001b[0m\u001b[1;34m'PastDue'\u001b[0m\u001b[1;33m,\u001b[0m\u001b[1;34m'Past Due (91-120 days)'\u001b[0m\u001b[1;33m:\u001b[0m\u001b[1;34m'PastDue'\u001b[0m\u001b[1;33m,\u001b[0m\u001b[1;33m\u001b[0m\u001b[1;33m\u001b[0m\u001b[0m\n\u001b[1;32m----> 4\u001b[1;33m                                 'Past Due (61-90 days)':'PastDue','Past Due (16-30 days)':'PastDue','Past Due (>120 days)':'PastDue'}) )\n\u001b[0m",
      "\u001b[1;31mTypeError\u001b[0m: map() must have at least two arguments."
     ]
    }
   ],
   "source": [
    "df3.LoanS = df3.LoanS.map({'Current':'Current', 'Completed':'Completed', 'FinalPaymentInProgress':'Completed','Chargedoff':'Failed', 'Defaulted':'Failed',\n",
    "                                'Past Due (1-15 days)':'PastDue', 'Past Due (31-60 days)':'PastDue','Past Due (91-120 days)':'PastDue',\n",
    "                                'Past Due (61-90 days)':'PastDue','Past Due (16-30 days)':'PastDue','Past Due (>120 days)':'PastDue'}) "
   ]
  },
  {
   "cell_type": "code",
   "execution_count": 278,
   "metadata": {},
   "outputs": [
    {
     "data": {
      "text/plain": [
       "Current      55730\n",
       "Completed    38264\n",
       "Failed       17010\n",
       "PastDue       2057\n",
       "Name: LoanS, dtype: int64"
      ]
     },
     "execution_count": 278,
     "metadata": {},
     "output_type": "execute_result"
    }
   ],
   "source": [
    "df3.LoanS.value_counts()"
   ]
  },
  {
   "cell_type": "code",
   "execution_count": 296,
   "metadata": {},
   "outputs": [
    {
     "name": "stderr",
     "output_type": "stream",
     "text": [
      "C:\\ProgramData\\Anaconda3\\lib\\site-packages\\pandas\\core\\generic.py:5208: SettingWithCopyWarning: \n",
      "A value is trying to be set on a copy of a slice from a DataFrame.\n",
      "Try using .loc[row_indexer,col_indexer] = value instead\n",
      "\n",
      "See the caveats in the documentation: http://pandas.pydata.org/pandas-docs/stable/user_guide/indexing.html#returning-a-view-versus-a-copy\n",
      "  self[name] = value\n"
     ]
    },
    {
     "data": {
      "text/plain": [
       "Current      55730\n",
       "Completed    38264\n",
       "Failed       17010\n",
       "PastDue       2057\n",
       "Name: LoanS, dtype: int64"
      ]
     },
     "execution_count": 296,
     "metadata": {},
     "output_type": "execute_result"
    }
   ],
   "source": [
    "ls = ['Completed','Current','PastDue','Failed']\n",
    "t = pd.api.types.CategoricalDtype(categories = ls, ordered = True)\n",
    "df3.LoanS = df3.LoanS.astype(t)\n",
    "df3.LoanS.value_counts()"
   ]
  },
  {
   "cell_type": "code",
   "execution_count": 298,
   "metadata": {},
   "outputs": [
    {
     "data": {
      "text/plain": [
       "str"
      ]
     },
     "execution_count": 298,
     "metadata": {},
     "output_type": "execute_result"
    }
   ],
   "source": [
    "type(df3.LoanStatus[0]) # LoanS is category, but not recognized by value_counts() or type()"
   ]
  },
  {
   "cell_type": "code",
   "execution_count": 299,
   "metadata": {},
   "outputs": [
    {
     "data": {
      "text/plain": [
       "''"
      ]
     },
     "execution_count": 299,
     "metadata": {},
     "output_type": "execute_result"
    },
    {
     "data": {
      "image/png": "[encoded data removed]",
      "text/plain": [
       "<Figure size 432x288 with 1 Axes>"
      ]
     },
     "metadata": {
      "needs_background": "light"
     },
     "output_type": "display_data"
    }
   ],
   "source": [
    "df3_ls = df3[df3.LoanS.isna()  == False] #define df3_ls to be excluding the cancelled loans\n",
    "sb.countplot(df3_ls.LoanS, color = b_color)\n",
    ";"
   ]
  },
  {
   "cell_type": "code",
   "execution_count": 304,
   "metadata": {},
   "outputs": [
    {
     "data": {
      "text/plain": [
       "''"
      ]
     },
     "execution_count": 304,
     "metadata": {},
     "output_type": "execute_result"
    },
    {
     "data": {
      "image/png": "[encoded data removed]",
      "text/plain": [
       "<Figure size 432x288 with 1 Axes>"
      ]
     },
     "metadata": {
      "needs_background": "light"
     },
     "output_type": "display_data"
    }
   ],
   "source": [
    "sb.boxplot(data = df3_ls, x = 'LoanStatus', y = 'LoanOriginalAmount' )\n",
    "plt.xticks(rotation = 60)\n",
    ";"
   ]
  },
  {
   "cell_type": "code",
   "execution_count": 361,
   "metadata": {
    "scrolled": true
   },
   "outputs": [
    {
     "data": {
      "image/png": "[encoded data removed]",
      "text/plain": [
       "<Figure size 1080x1080 with 12 Axes>"
      ]
     },
     "metadata": {
      "needs_background": "light"
     },
     "output_type": "display_data"
    }
   ],
   "source": [
    "a_color = sb.color_palette()[0]\n",
    "plt.figure(figsize = [15,15])\n",
    "i=0\n",
    "for m in ['BorrowerRate','LoanOriginalAmount','MonthlyLoanPayment',\n",
    " 'CreditScoreRangeLower']:\n",
    "    i+=1\n",
    "    plt.subplot(3,3,i)\n",
    "    sb.boxplot(data = df3_ls, x= 'LoanS', y = m, color = a_color)\n",
    " \n",
    "i+=1\n",
    "plt.subplot(3,3,i)\n",
    "yt = 10**np.arange(2.5, 5.51, 0.5) #monthly income 300 ~ 300,000\n",
    "sb.boxplot(data = df3_ls, x= 'LoanS', y = 'StatedMonthlyIncome', color = a_color)\n",
    "plt.yscale('log')\n",
    "plt.yticks(yt, yt.astype(int))\n",
    "\n",
    "i+=1\n",
    "plt.subplot(3,3,i) #filter out DTI>=1\n",
    "sb.boxplot(data = df3_ls[df3_ls.DebtToIncomeRatio<1], x= 'LoanS', y = 'DebtToIncomeRatio', color = a_color)\n",
    "\n",
    "for m in ['ListingCategory','Term','IsBorrowerHomeowner']:\n",
    "    i+=1\n",
    "    plt.subplot(3,3,i)\n",
    "    cnt = df3_ls[['LoanS',m,'LoanOriginalAmount']].groupby(['LoanS',m]).count().reset_index()\n",
    "    cnt = cnt.pivot(index = m, columns='LoanS', values = 'LoanOriginalAmount')\n",
    "    sb.heatmap(data = cnt, cmap = 'viridis_r')\n",
    "\n",
    "\n",
    "    "
   ]
  },
  {
   "cell_type": "markdown",
   "metadata": {},
   "source": [
    "Debt consolidation is the main category.\n",
    "Last 2 graphs are not very illustrative"
   ]
  },
  {
   "cell_type": "code",
   "execution_count": 358,
   "metadata": {},
   "outputs": [
    {
     "data": {
      "text/plain": [
       "array([3.16000e+02, 3.98000e+02, 5.01000e+02, 6.31000e+02, 7.94000e+02,\n",
       "       1.00000e+03, 1.25900e+03, 1.58500e+03, 1.99500e+03, 2.51200e+03,\n",
       "       3.16200e+03, 3.98100e+03, 5.01200e+03, 6.31000e+03, 7.94300e+03,\n",
       "       1.00000e+04, 1.25890e+04, 1.58490e+04, 1.99530e+04, 2.51190e+04,\n",
       "       3.16230e+04, 3.98110e+04, 5.01190e+04, 6.30960e+04, 7.94330e+04,\n",
       "       1.00000e+05, 1.25893e+05, 1.58489e+05, 1.99526e+05, 2.51189e+05,\n",
       "       3.16228e+05])"
      ]
     },
     "execution_count": 358,
     "metadata": {},
     "output_type": "execute_result"
    }
   ],
   "source": [
    "yt.round(0)"
   ]
  },
  {
   "cell_type": "code",
   "execution_count": 351,
   "metadata": {},
   "outputs": [
    {
     "data": {
      "text/plain": [
       "''"
      ]
     },
     "execution_count": 351,
     "metadata": {},
     "output_type": "execute_result"
    },
    {
     "data": {
      "image/png": "[encoded data removed]",
      "text/plain": [
       "<Figure size 432x288 with 2 Axes>"
      ]
     },
     "metadata": {
      "needs_background": "light"
     },
     "output_type": "display_data"
    }
   ],
   "source": [
    "cnt = df3_ls[['LoanS','ListingCategory','LoanOriginalAmount']].groupby(['LoanS','ListingCategory']).count().reset_index()\n",
    "cnt = cnt.pivot(index = 'LoanS', columns='ListingCategory', values = 'LoanOriginalAmount')\n",
    "sb.heatmap(data = cnt, cmap = 'viridis_r')\n",
    ";"
   ]
  },
  {
   "cell_type": "code",
   "execution_count": 341,
   "metadata": {},
   "outputs": [],
   "source": [
    "cnt.Term.fillna(0,inplace = True)"
   ]
  },
  {
   "cell_type": "code",
   "execution_count": 336,
   "metadata": {},
   "outputs": [
    {
     "data": {
      "text/plain": [
       "20    4\n",
       "9     4\n",
       "1     4\n",
       "2     4\n",
       "3     4\n",
       "4     4\n",
       "5     4\n",
       "6     4\n",
       "7     4\n",
       "8     4\n",
       "10    4\n",
       "19    4\n",
       "11    4\n",
       "12    4\n",
       "13    4\n",
       "14    4\n",
       "15    4\n",
       "16    4\n",
       "17    4\n",
       "18    4\n",
       "0     4\n",
       "Name: ListingCategory, dtype: int64"
      ]
     },
     "execution_count": 336,
     "metadata": {},
     "output_type": "execute_result"
    }
   ],
   "source": [
    "cnt.ListingCategory.value_counts()"
   ]
  },
  {
   "cell_type": "code",
   "execution_count": 343,
   "metadata": {},
   "outputs": [
    {
     "name": "stdout",
     "output_type": "stream",
     "text": [
      "<class 'pandas.core.frame.DataFrame'>\n",
      "RangeIndex: 84 entries, 0 to 83\n",
      "Data columns (total 3 columns):\n",
      "LoanS              84 non-null category\n",
      "ListingCategory    84 non-null int64\n",
      "Term               84 non-null float64\n",
      "dtypes: category(1), float64(1), int64(1)\n",
      "memory usage: 1.7 KB\n"
     ]
    }
   ],
   "source": [
    "cnt.info()"
   ]
  },
  {
   "cell_type": "code",
   "execution_count": 349,
   "metadata": {},
   "outputs": [
    {
     "data": {
      "image/png": "[encoded data removed]",
      "text/plain": [
       "<Figure size 432x288 with 2 Axes>"
      ]
     },
     "metadata": {
      "needs_background": "light"
     },
     "output_type": "display_data"
    }
   ],
   "source": [
    "sb.heatmap(data = cnt, cmap = 'viridis_r') ;"
   ]
  },
  {
   "cell_type": "code",
   "execution_count": 345,
   "metadata": {},
   "outputs": [
    {
     "data": {
      "text/html": [
       "<div>\n",
       "<style scoped>\n",
       "    .dataframe tbody tr th:only-of-type {\n",
       "        vertical-align: middle;\n",
       "    }\n",
       "\n",
       "    .dataframe tbody tr th {\n",
       "        vertical-align: top;\n",
       "    }\n",
       "\n",
       "    .dataframe thead th {\n",
       "        text-align: right;\n",
       "    }\n",
       "</style>\n",
       "<table border=\"1\" class=\"dataframe\">\n",
       "  <thead>\n",
       "    <tr style=\"text-align: right;\">\n",
       "      <th>ListingCategory</th>\n",
       "      <th>0</th>\n",
       "      <th>1</th>\n",
       "      <th>2</th>\n",
       "      <th>3</th>\n",
       "      <th>4</th>\n",
       "      <th>5</th>\n",
       "      <th>6</th>\n",
       "      <th>7</th>\n",
       "      <th>8</th>\n",
       "      <th>9</th>\n",
       "      <th>...</th>\n",
       "      <th>11</th>\n",
       "      <th>12</th>\n",
       "      <th>13</th>\n",
       "      <th>14</th>\n",
       "      <th>15</th>\n",
       "      <th>16</th>\n",
       "      <th>17</th>\n",
       "      <th>18</th>\n",
       "      <th>19</th>\n",
       "      <th>20</th>\n",
       "    </tr>\n",
       "    <tr>\n",
       "      <th>LoanS</th>\n",
       "      <th></th>\n",
       "      <th></th>\n",
       "      <th></th>\n",
       "      <th></th>\n",
       "      <th></th>\n",
       "      <th></th>\n",
       "      <th></th>\n",
       "      <th></th>\n",
       "      <th></th>\n",
       "      <th></th>\n",
       "      <th></th>\n",
       "      <th></th>\n",
       "      <th></th>\n",
       "      <th></th>\n",
       "      <th></th>\n",
       "      <th></th>\n",
       "      <th></th>\n",
       "      <th></th>\n",
       "      <th></th>\n",
       "      <th></th>\n",
       "      <th></th>\n",
       "    </tr>\n",
       "  </thead>\n",
       "  <tbody>\n",
       "    <tr>\n",
       "      <th>Completed</th>\n",
       "      <td>10253.0</td>\n",
       "      <td>13273.0</td>\n",
       "      <td>2448.0</td>\n",
       "      <td>2861.0</td>\n",
       "      <td>1620.0</td>\n",
       "      <td>561.0</td>\n",
       "      <td>1219.0</td>\n",
       "      <td>4571.0</td>\n",
       "      <td>27.0</td>\n",
       "      <td>25.0</td>\n",
       "      <td>...</td>\n",
       "      <td>58.0</td>\n",
       "      <td>11.0</td>\n",
       "      <td>377.0</td>\n",
       "      <td>141.0</td>\n",
       "      <td>240.0</td>\n",
       "      <td>87.0</td>\n",
       "      <td>16.0</td>\n",
       "      <td>163.0</td>\n",
       "      <td>151.0</td>\n",
       "      <td>128.0</td>\n",
       "    </tr>\n",
       "    <tr>\n",
       "      <th>Current</th>\n",
       "      <td>12.0</td>\n",
       "      <td>38526.0</td>\n",
       "      <td>3920.0</td>\n",
       "      <td>2708.0</td>\n",
       "      <td>0.0</td>\n",
       "      <td>0.0</td>\n",
       "      <td>971.0</td>\n",
       "      <td>4174.0</td>\n",
       "      <td>150.0</td>\n",
       "      <td>55.0</td>\n",
       "      <td>...</td>\n",
       "      <td>143.0</td>\n",
       "      <td>35.0</td>\n",
       "      <td>1312.0</td>\n",
       "      <td>640.0</td>\n",
       "      <td>1063.0</td>\n",
       "      <td>201.0</td>\n",
       "      <td>34.0</td>\n",
       "      <td>636.0</td>\n",
       "      <td>539.0</td>\n",
       "      <td>567.0</td>\n",
       "    </tr>\n",
       "    <tr>\n",
       "      <th>PastDue</th>\n",
       "      <td>1.0</td>\n",
       "      <td>1124.0</td>\n",
       "      <td>210.0</td>\n",
       "      <td>179.0</td>\n",
       "      <td>0.0</td>\n",
       "      <td>0.0</td>\n",
       "      <td>49.0</td>\n",
       "      <td>212.0</td>\n",
       "      <td>6.0</td>\n",
       "      <td>2.0</td>\n",
       "      <td>...</td>\n",
       "      <td>7.0</td>\n",
       "      <td>3.0</td>\n",
       "      <td>72.0</td>\n",
       "      <td>36.0</td>\n",
       "      <td>73.0</td>\n",
       "      <td>8.0</td>\n",
       "      <td>1.0</td>\n",
       "      <td>29.0</td>\n",
       "      <td>21.0</td>\n",
       "      <td>21.0</td>\n",
       "    </tr>\n",
       "    <tr>\n",
       "      <th>Failed</th>\n",
       "      <td>6695.0</td>\n",
       "      <td>4700.0</td>\n",
       "      <td>810.0</td>\n",
       "      <td>1409.0</td>\n",
       "      <td>775.0</td>\n",
       "      <td>195.0</td>\n",
       "      <td>329.0</td>\n",
       "      <td>1491.0</td>\n",
       "      <td>13.0</td>\n",
       "      <td>3.0</td>\n",
       "      <td>...</td>\n",
       "      <td>6.0</td>\n",
       "      <td>9.0</td>\n",
       "      <td>226.0</td>\n",
       "      <td>46.0</td>\n",
       "      <td>131.0</td>\n",
       "      <td>8.0</td>\n",
       "      <td>1.0</td>\n",
       "      <td>54.0</td>\n",
       "      <td>53.0</td>\n",
       "      <td>46.0</td>\n",
       "    </tr>\n",
       "  </tbody>\n",
       "</table>\n",
       "<p>4 rows × 21 columns</p>\n",
       "</div>"
      ],
      "text/plain": [
       "ListingCategory       0        1       2       3       4      5       6   \\\n",
       "LoanS                                                                      \n",
       "Completed        10253.0  13273.0  2448.0  2861.0  1620.0  561.0  1219.0   \n",
       "Current             12.0  38526.0  3920.0  2708.0     0.0    0.0   971.0   \n",
       "PastDue              1.0   1124.0   210.0   179.0     0.0    0.0    49.0   \n",
       "Failed            6695.0   4700.0   810.0  1409.0   775.0  195.0   329.0   \n",
       "\n",
       "ListingCategory      7      8     9   ...     11    12      13     14      15  \\\n",
       "LoanS                                 ...                                       \n",
       "Completed        4571.0   27.0  25.0  ...   58.0  11.0   377.0  141.0   240.0   \n",
       "Current          4174.0  150.0  55.0  ...  143.0  35.0  1312.0  640.0  1063.0   \n",
       "PastDue           212.0    6.0   2.0  ...    7.0   3.0    72.0   36.0    73.0   \n",
       "Failed           1491.0   13.0   3.0  ...    6.0   9.0   226.0   46.0   131.0   \n",
       "\n",
       "ListingCategory     16    17     18     19     20  \n",
       "LoanS                                              \n",
       "Completed         87.0  16.0  163.0  151.0  128.0  \n",
       "Current          201.0  34.0  636.0  539.0  567.0  \n",
       "PastDue            8.0   1.0   29.0   21.0   21.0  \n",
       "Failed             8.0   1.0   54.0   53.0   46.0  \n",
       "\n",
       "[4 rows x 21 columns]"
      ]
     },
     "execution_count": 345,
     "metadata": {},
     "output_type": "execute_result"
    }
   ],
   "source": [
    "cnt.head()"
   ]
  },
  {
   "cell_type": "code",
   "execution_count": 316,
   "metadata": {},
   "outputs": [
    {
     "data": {
      "text/plain": [
       "113061.0"
      ]
     },
     "execution_count": 316,
     "metadata": {},
     "output_type": "execute_result"
    }
   ],
   "source": [
    "cnt.Term.sum()"
   ]
  },
  {
   "cell_type": "code",
   "execution_count": 323,
   "metadata": {},
   "outputs": [],
   "source": [
    "cnt = cnt.reset_index()"
   ]
  },
  {
   "cell_type": "code",
   "execution_count": 344,
   "metadata": {},
   "outputs": [],
   "source": [
    "cnt = cnt.pivot(index = 'LoanS', columns='ListingCategory', values = 'Term')"
   ]
  },
  {
   "cell_type": "code",
   "execution_count": 377,
   "metadata": {},
   "outputs": [
    {
     "data": {
      "text/plain": [
       "<matplotlib.axes._subplots.AxesSubplot at 0x2bd034f4608>"
      ]
     },
     "execution_count": 377,
     "metadata": {},
     "output_type": "execute_result"
    },
    {
     "data": {
      "image/png": "[encoded data removed]",
      "text/plain": [
       "<Figure size 432x288 with 1 Axes>"
      ]
     },
     "metadata": {
      "needs_background": "light"
     },
     "output_type": "display_data"
    }
   ],
   "source": [
    "#'Term','IsBorrowerHomeowner'~ 'LoanS' - Term is not that interesting\n",
    "sb.countplot(data = df3_ls, x = 'LoanS', hue = 'IsBorrowerHomeowner');"
   ]
  },
  {
   "cell_type": "code",
   "execution_count": 386,
   "metadata": {},
   "outputs": [
    {
     "data": {
      "image/png": "[encoded data removed]",
      "text/plain": [
       "<Figure size 432x288 with 1 Axes>"
      ]
     },
     "metadata": {
      "needs_background": "light"
     },
     "output_type": "display_data"
    }
   ],
   "source": [
    "sb.countplot(data = df3_ls, x = 'LoanS', hue = 'Term');"
   ]
  },
  {
   "cell_type": "markdown",
   "metadata": {},
   "source": [
    "60 month loans are least likely to be 'completed', while 12 month loans very likely to be 'completed'. 36 month loans have significant proportion of being 'failed'."
   ]
  },
  {
   "cell_type": "code",
   "execution_count": 375,
   "metadata": {
    "scrolled": true
   },
   "outputs": [
    {
     "data": {
      "image/png": "[encoded data removed]",
      "text/plain": [
       "<Figure size 432x288 with 2 Axes>"
      ]
     },
     "metadata": {
      "needs_background": "light"
     },
     "output_type": "display_data"
    }
   ],
   "source": [
    "corr = df3.corr()\n",
    "sb.heatmap(corr, cmap = 'vlag_r',vmin = -1, vmax = 1, center =0 );"
   ]
  },
  {
   "cell_type": "markdown",
   "metadata": {},
   "source": [
    "loan amount ~ monthly payment, (monthly income ~ DTI), loan amount ~ term, loan amount ~ credit score, credit score ~ home owner .."
   ]
  },
  {
   "cell_type": "markdown",
   "metadata": {},
   "source": [
    "### Talk about some of the relationships you observed in this part of the investigation. How did the feature(s) of interest vary with other features in the dataset?\n",
    "\n",
    "> Your answer here!\n",
    "\n",
    "### Did you observe any interesting relationships between the other features (not the main feature(s) of interest)?\n",
    "\n",
    "> Your answer here!"
   ]
  },
  {
   "cell_type": "markdown",
   "metadata": {},
   "source": [
    "## Multivariate Exploration\n",
    "\n",
    "> Create plots of three or more variables to investigate your data even\n",
    "further. Make sure that your investigations are justified, and follow from\n",
    "your work in the previous sections."
   ]
  },
  {
   "cell_type": "markdown",
   "metadata": {},
   "source": [
    "Home owners are more likely to have a on-going loan, but less likely to have defaulted or 'charged' a loan. or completed a loan."
   ]
  },
  {
   "cell_type": "code",
   "execution_count": 385,
   "metadata": {},
   "outputs": [
    {
     "data": {
      "image/png": "[encoded data removed]",
      "text/plain": [
       "<Figure size 432x216 with 2 Axes>"
      ]
     },
     "metadata": {
      "needs_background": "light"
     },
     "output_type": "display_data"
    }
   ],
   "source": [
    "#'BorrowerRate', 'LoanS', 'CreditScoreRangeLower'\n",
    "#'BorrowerRate','IsBorrowerHomeowner', 'Term'\n",
    "\n",
    "g = sb.FacetGrid(data = df3, col = 'IsBorrowerHomeowner')\n",
    "g.map(sb.violinplot, 'Term', 'BorrowerRate', inner = 'quartile');"
   ]
  },
  {
   "cell_type": "code",
   "execution_count": 397,
   "metadata": {},
   "outputs": [
    {
     "data": {
      "image/png": "[encoded data removed]",
      "text/plain": [
       "<Figure size 432x288 with 1 Axes>"
      ]
     },
     "metadata": {
      "needs_background": "light"
     },
     "output_type": "display_data"
    }
   ],
   "source": [
    "sb.boxplot(data = df3_ls, x = 'Term', y = 'BorrowerRate', hue = 'IsBorrowerHomeowner', dodge = True);\n"
   ]
  },
  {
   "cell_type": "markdown",
   "metadata": {},
   "source": [
    "Home owners have lower interest rate, when term is extracted as a seperate dimension."
   ]
  },
  {
   "cell_type": "markdown",
   "metadata": {},
   "source": [
    "### Talk about some of the relationships you observed in this part of the investigation. Were there features that strengthened each other in terms of looking at your feature(s) of interest?\n",
    "\n",
    "> Your answer here!\n",
    "\n",
    "### Were there any interesting or surprising interactions between features?\n",
    "\n",
    "> Your answer here!"
   ]
  },
  {
   "cell_type": "markdown",
   "metadata": {},
   "source": [
    "> At the end of your report, make sure that you export the notebook as an\n",
    "html file from the `File > Download as... > HTML` menu. Make sure you keep\n",
    "track of where the exported file goes, so you can put it in the same folder\n",
    "as this notebook for project submission. Also, make sure you remove all of\n",
    "the quote-formatted guide notes like this one before you finish your report!"
   ]
  },
  {
   "cell_type": "code",
   "execution_count": null,
   "metadata": {},
   "outputs": [],
   "source": []
  }
 ],
 "metadata": {
  "kernelspec": {
   "display_name": "Python 3",
   "language": "python",
   "name": "python3"
  },
  "language_info": {
   "codemirror_mode": {
    "name": "ipython",
    "version": 3
   },
   "file_extension": ".py",
   "mimetype": "text/x-python",
   "name": "python",
   "nbconvert_exporter": "python",
   "pygments_lexer": "ipython3",
   "version": "3.7.4"
  }
 },
 "nbformat": 4,
 "nbformat_minor": 2
}
